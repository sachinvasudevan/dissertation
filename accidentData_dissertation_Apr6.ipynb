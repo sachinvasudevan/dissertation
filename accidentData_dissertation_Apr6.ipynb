{
 "cells": [
  {
   "cell_type": "code",
   "execution_count": 126,
   "id": "bd3a3aaf",
   "metadata": {},
   "outputs": [],
   "source": [
    "import pandas as pd\n",
    "import numpy as np\n",
    "import datetime\n",
    "from datetime import datetime\n",
    "import statsmodels.api as sm\n",
    "import seaborn as sns\n",
    "import matplotlib.pyplot as plt\n",
    "import scipy.stats as stats"
   ]
  },
  {
   "cell_type": "markdown",
   "id": "37534c57",
   "metadata": {},
   "source": [
    "# Read csv files as pandas dataframe"
   ]
  },
  {
   "cell_type": "code",
   "execution_count": 127,
   "id": "4da87dc2",
   "metadata": {},
   "outputs": [
    {
     "data": {
      "text/html": [
       "<div>\n",
       "<style scoped>\n",
       "    .dataframe tbody tr th:only-of-type {\n",
       "        vertical-align: middle;\n",
       "    }\n",
       "\n",
       "    .dataframe tbody tr th {\n",
       "        vertical-align: top;\n",
       "    }\n",
       "\n",
       "    .dataframe thead th {\n",
       "        text-align: right;\n",
       "    }\n",
       "</style>\n",
       "<table border=\"1\" class=\"dataframe\">\n",
       "  <thead>\n",
       "    <tr style=\"text-align: right;\">\n",
       "      <th></th>\n",
       "      <th>postcode</th>\n",
       "      <th>Rural Urban</th>\n",
       "      <th>Variable: All usual residents; measures: Value</th>\n",
       "      <th>Variable: Males; measures: Value</th>\n",
       "      <th>Variable: Females; measures: Value</th>\n",
       "      <th>Variable: Lives in a household; measures: Value</th>\n",
       "      <th>Variable: Lives in a communal establishment; measures: Value</th>\n",
       "      <th>Variable: Schoolchild or full-time student aged 4 and over at their non term-time address; measures: Value</th>\n",
       "      <th>Variable: Area (Hectares); measures: Value</th>\n",
       "      <th>Variable: Density (number of persons per hectare); measures: Value</th>\n",
       "    </tr>\n",
       "  </thead>\n",
       "  <tbody>\n",
       "    <tr>\n",
       "      <th>0</th>\n",
       "      <td>AL1  1</td>\n",
       "      <td>Total</td>\n",
       "      <td>5453</td>\n",
       "      <td>2715</td>\n",
       "      <td>2738</td>\n",
       "      <td>5408</td>\n",
       "      <td>45</td>\n",
       "      <td>75</td>\n",
       "      <td>225.63</td>\n",
       "      <td>24.2</td>\n",
       "    </tr>\n",
       "    <tr>\n",
       "      <th>1</th>\n",
       "      <td>AL1  2</td>\n",
       "      <td>Total</td>\n",
       "      <td>6523</td>\n",
       "      <td>3183</td>\n",
       "      <td>3340</td>\n",
       "      <td>6418</td>\n",
       "      <td>105</td>\n",
       "      <td>77</td>\n",
       "      <td>286.59</td>\n",
       "      <td>22.8</td>\n",
       "    </tr>\n",
       "    <tr>\n",
       "      <th>2</th>\n",
       "      <td>AL1  3</td>\n",
       "      <td>Total</td>\n",
       "      <td>4179</td>\n",
       "      <td>2121</td>\n",
       "      <td>2058</td>\n",
       "      <td>4100</td>\n",
       "      <td>79</td>\n",
       "      <td>46</td>\n",
       "      <td>97.12</td>\n",
       "      <td>43.0</td>\n",
       "    </tr>\n",
       "    <tr>\n",
       "      <th>3</th>\n",
       "      <td>AL1  4</td>\n",
       "      <td>Total</td>\n",
       "      <td>9799</td>\n",
       "      <td>4845</td>\n",
       "      <td>4954</td>\n",
       "      <td>9765</td>\n",
       "      <td>34</td>\n",
       "      <td>285</td>\n",
       "      <td>244.75</td>\n",
       "      <td>40.0</td>\n",
       "    </tr>\n",
       "    <tr>\n",
       "      <th>4</th>\n",
       "      <td>AL1  5</td>\n",
       "      <td>Total</td>\n",
       "      <td>10226</td>\n",
       "      <td>5129</td>\n",
       "      <td>5097</td>\n",
       "      <td>10211</td>\n",
       "      <td>15</td>\n",
       "      <td>133</td>\n",
       "      <td>200.93</td>\n",
       "      <td>50.9</td>\n",
       "    </tr>\n",
       "  </tbody>\n",
       "</table>\n",
       "</div>"
      ],
      "text/plain": [
       "  postcode Rural Urban  Variable: All usual residents; measures: Value  \\\n",
       "0   AL1  1       Total                                            5453   \n",
       "1   AL1  2       Total                                            6523   \n",
       "2   AL1  3       Total                                            4179   \n",
       "3   AL1  4       Total                                            9799   \n",
       "4   AL1  5       Total                                           10226   \n",
       "\n",
       "   Variable: Males; measures: Value  Variable: Females; measures: Value  \\\n",
       "0                              2715                                2738   \n",
       "1                              3183                                3340   \n",
       "2                              2121                                2058   \n",
       "3                              4845                                4954   \n",
       "4                              5129                                5097   \n",
       "\n",
       "   Variable: Lives in a household; measures: Value  \\\n",
       "0                                             5408   \n",
       "1                                             6418   \n",
       "2                                             4100   \n",
       "3                                             9765   \n",
       "4                                            10211   \n",
       "\n",
       "   Variable: Lives in a communal establishment; measures: Value  \\\n",
       "0                                                 45              \n",
       "1                                                105              \n",
       "2                                                 79              \n",
       "3                                                 34              \n",
       "4                                                 15              \n",
       "\n",
       "   Variable: Schoolchild or full-time student aged 4 and over at their non term-time address; measures: Value  \\\n",
       "0                                                 75                                                            \n",
       "1                                                 77                                                            \n",
       "2                                                 46                                                            \n",
       "3                                                285                                                            \n",
       "4                                                133                                                            \n",
       "\n",
       "   Variable: Area (Hectares); measures: Value  \\\n",
       "0                                      225.63   \n",
       "1                                      286.59   \n",
       "2                                       97.12   \n",
       "3                                      244.75   \n",
       "4                                      200.93   \n",
       "\n",
       "   Variable: Density (number of persons per hectare); measures: Value  \n",
       "0                                               24.2                   \n",
       "1                                               22.8                   \n",
       "2                                               43.0                   \n",
       "3                                               40.0                   \n",
       "4                                               50.9                   "
      ]
     },
     "execution_count": 127,
     "metadata": {},
     "output_type": "execute_result"
    }
   ],
   "source": [
    "population= pd.read_csv(\"C:/Users/sachi/Documents/sem2/Project/Dataset/population.csv\")\n",
    "population.head()"
   ]
  },
  {
   "cell_type": "code",
   "execution_count": 128,
   "id": "b3277cec",
   "metadata": {},
   "outputs": [
    {
     "data": {
      "text/html": [
       "<div>\n",
       "<style scoped>\n",
       "    .dataframe tbody tr th:only-of-type {\n",
       "        vertical-align: middle;\n",
       "    }\n",
       "\n",
       "    .dataframe tbody tr th {\n",
       "        vertical-align: top;\n",
       "    }\n",
       "\n",
       "    .dataframe thead th {\n",
       "        text-align: right;\n",
       "    }\n",
       "</style>\n",
       "<table border=\"1\" class=\"dataframe\">\n",
       "  <thead>\n",
       "    <tr style=\"text-align: right;\">\n",
       "      <th></th>\n",
       "      <th>WKT</th>\n",
       "      <th>roadClassi</th>\n",
       "      <th>roadFuncti</th>\n",
       "      <th>formOfWay</th>\n",
       "      <th>length</th>\n",
       "      <th>primaryRou</th>\n",
       "      <th>distance to the nearest point on rd</th>\n",
       "      <th>postcode</th>\n",
       "    </tr>\n",
       "  </thead>\n",
       "  <tbody>\n",
       "    <tr>\n",
       "      <th>0</th>\n",
       "      <td>POINT (-2.3501 56.603923)</td>\n",
       "      <td>A Road</td>\n",
       "      <td>A Road</td>\n",
       "      <td>Single Carriageway</td>\n",
       "      <td>2643.0</td>\n",
       "      <td>1.0</td>\n",
       "      <td>1.256769</td>\n",
       "      <td>AB1</td>\n",
       "    </tr>\n",
       "    <tr>\n",
       "      <th>1</th>\n",
       "      <td>POINT (-2.021334 57.130142)</td>\n",
       "      <td>A Road</td>\n",
       "      <td>A Road</td>\n",
       "      <td>Single Carriageway</td>\n",
       "      <td>2643.0</td>\n",
       "      <td>1.0</td>\n",
       "      <td>1.834101</td>\n",
       "      <td>AB1 9NN</td>\n",
       "    </tr>\n",
       "    <tr>\n",
       "      <th>2</th>\n",
       "      <td>POINT (-2.108598 57.146338)</td>\n",
       "      <td>A Road</td>\n",
       "      <td>A Road</td>\n",
       "      <td>Single Carriageway</td>\n",
       "      <td>2643.0</td>\n",
       "      <td>1.0</td>\n",
       "      <td>1.830243</td>\n",
       "      <td>AB10 1UH</td>\n",
       "    </tr>\n",
       "    <tr>\n",
       "      <th>3</th>\n",
       "      <td>POINT (-2.093928 57.148218)</td>\n",
       "      <td>A Road</td>\n",
       "      <td>A Road</td>\n",
       "      <td>Single Carriageway</td>\n",
       "      <td>2643.0</td>\n",
       "      <td>1.0</td>\n",
       "      <td>1.835092</td>\n",
       "      <td>AB10 1YL</td>\n",
       "    </tr>\n",
       "    <tr>\n",
       "      <th>4</th>\n",
       "      <td>POINT (-2.116089 57.131671)</td>\n",
       "      <td>A Road</td>\n",
       "      <td>A Road</td>\n",
       "      <td>Single Carriageway</td>\n",
       "      <td>2643.0</td>\n",
       "      <td>1.0</td>\n",
       "      <td>1.814373</td>\n",
       "      <td>AB10 6AT</td>\n",
       "    </tr>\n",
       "  </tbody>\n",
       "</table>\n",
       "</div>"
      ],
      "text/plain": [
       "                           WKT roadClassi roadFuncti           formOfWay  \\\n",
       "0    POINT (-2.3501 56.603923)     A Road     A Road  Single Carriageway   \n",
       "1  POINT (-2.021334 57.130142)     A Road     A Road  Single Carriageway   \n",
       "2  POINT (-2.108598 57.146338)     A Road     A Road  Single Carriageway   \n",
       "3  POINT (-2.093928 57.148218)     A Road     A Road  Single Carriageway   \n",
       "4  POINT (-2.116089 57.131671)     A Road     A Road  Single Carriageway   \n",
       "\n",
       "   length  primaryRou  distance to the nearest point on rd  postcode  \n",
       "0  2643.0         1.0                             1.256769      AB1   \n",
       "1  2643.0         1.0                             1.834101   AB1 9NN  \n",
       "2  2643.0         1.0                             1.830243  AB10 1UH  \n",
       "3  2643.0         1.0                             1.835092  AB10 1YL  \n",
       "4  2643.0         1.0                             1.814373  AB10 6AT  "
      ]
     },
     "execution_count": 128,
     "metadata": {},
     "output_type": "execute_result"
    }
   ],
   "source": [
    "road_nw= pd.read_csv(\"C:/Users/sachi/Documents/sem2/Project/Dataset/roads_network.csv\")\n",
    "road_nw.head()"
   ]
  },
  {
   "cell_type": "code",
   "execution_count": 129,
   "id": "ac74730c",
   "metadata": {},
   "outputs": [
    {
     "data": {
      "text/html": [
       "<div>\n",
       "<style scoped>\n",
       "    .dataframe tbody tr th:only-of-type {\n",
       "        vertical-align: middle;\n",
       "    }\n",
       "\n",
       "    .dataframe tbody tr th {\n",
       "        vertical-align: top;\n",
       "    }\n",
       "\n",
       "    .dataframe thead th {\n",
       "        text-align: right;\n",
       "    }\n",
       "</style>\n",
       "<table border=\"1\" class=\"dataframe\">\n",
       "  <thead>\n",
       "    <tr style=\"text-align: right;\">\n",
       "      <th></th>\n",
       "      <th>postcode</th>\n",
       "      <th>Accident_risk_index</th>\n",
       "    </tr>\n",
       "  </thead>\n",
       "  <tbody>\n",
       "    <tr>\n",
       "      <th>0</th>\n",
       "      <td>AB10 1AU</td>\n",
       "      <td>0</td>\n",
       "    </tr>\n",
       "    <tr>\n",
       "      <th>1</th>\n",
       "      <td>AB10 1PG</td>\n",
       "      <td>0</td>\n",
       "    </tr>\n",
       "    <tr>\n",
       "      <th>2</th>\n",
       "      <td>AB10 1TT</td>\n",
       "      <td>0</td>\n",
       "    </tr>\n",
       "    <tr>\n",
       "      <th>3</th>\n",
       "      <td>AB10 1YP</td>\n",
       "      <td>0</td>\n",
       "    </tr>\n",
       "    <tr>\n",
       "      <th>4</th>\n",
       "      <td>AB10 6LQ</td>\n",
       "      <td>0</td>\n",
       "    </tr>\n",
       "  </tbody>\n",
       "</table>\n",
       "</div>"
      ],
      "text/plain": [
       "   postcode  Accident_risk_index\n",
       "0  AB10 1AU                    0\n",
       "1  AB10 1PG                    0\n",
       "2  AB10 1TT                    0\n",
       "3  AB10 1YP                    0\n",
       "4  AB10 6LQ                    0"
      ]
     },
     "execution_count": 129,
     "metadata": {},
     "output_type": "execute_result"
    }
   ],
   "source": [
    "risk_index= pd.read_csv(\"C:/Users/sachi/Documents/sem2/Project/Dataset/sample_submission.csv\")\n",
    "risk_index.head()"
   ]
  },
  {
   "cell_type": "code",
   "execution_count": 130,
   "id": "8c114047",
   "metadata": {},
   "outputs": [
    {
     "data": {
      "text/html": [
       "<div>\n",
       "<style scoped>\n",
       "    .dataframe tbody tr th:only-of-type {\n",
       "        vertical-align: middle;\n",
       "    }\n",
       "\n",
       "    .dataframe tbody tr th {\n",
       "        vertical-align: top;\n",
       "    }\n",
       "\n",
       "    .dataframe thead th {\n",
       "        text-align: right;\n",
       "    }\n",
       "</style>\n",
       "<table border=\"1\" class=\"dataframe\">\n",
       "  <thead>\n",
       "    <tr style=\"text-align: right;\">\n",
       "      <th></th>\n",
       "      <th>Accident_ID</th>\n",
       "      <th>Police_Force</th>\n",
       "      <th>Number_of_Vehicles</th>\n",
       "      <th>Number_of_Casualties</th>\n",
       "      <th>Date</th>\n",
       "      <th>Day_of_Week</th>\n",
       "      <th>Time</th>\n",
       "      <th>Local_Authority_(District)</th>\n",
       "      <th>Local_Authority_(Highway)</th>\n",
       "      <th>1st_Road_Class</th>\n",
       "      <th>...</th>\n",
       "      <th>Light_Conditions</th>\n",
       "      <th>Weather_Conditions</th>\n",
       "      <th>Road_Surface_Conditions</th>\n",
       "      <th>Special_Conditions_at_Site</th>\n",
       "      <th>Carriageway_Hazards</th>\n",
       "      <th>Urban_or_Rural_Area</th>\n",
       "      <th>Did_Police_Officer_Attend_Scene_of_Accident</th>\n",
       "      <th>state</th>\n",
       "      <th>postcode</th>\n",
       "      <th>country</th>\n",
       "    </tr>\n",
       "  </thead>\n",
       "  <tbody>\n",
       "    <tr>\n",
       "      <th>0</th>\n",
       "      <td>14</td>\n",
       "      <td>13</td>\n",
       "      <td>2</td>\n",
       "      <td>0</td>\n",
       "      <td>06-10-2013</td>\n",
       "      <td>6</td>\n",
       "      <td>13:28</td>\n",
       "      <td>218</td>\n",
       "      <td>E10000032</td>\n",
       "      <td>4</td>\n",
       "      <td>...</td>\n",
       "      <td>Daylight: Street light present</td>\n",
       "      <td>Snowing without high winds</td>\n",
       "      <td>Dry</td>\n",
       "      <td>None</td>\n",
       "      <td>None</td>\n",
       "      <td>2</td>\n",
       "      <td>Yes</td>\n",
       "      <td>England</td>\n",
       "      <td>HX2 8WH</td>\n",
       "      <td>United Kingdom</td>\n",
       "    </tr>\n",
       "    <tr>\n",
       "      <th>1</th>\n",
       "      <td>17</td>\n",
       "      <td>13</td>\n",
       "      <td>2</td>\n",
       "      <td>0</td>\n",
       "      <td>22-04-2013</td>\n",
       "      <td>7</td>\n",
       "      <td>09:30</td>\n",
       "      <td>157</td>\n",
       "      <td>E10000034</td>\n",
       "      <td>6</td>\n",
       "      <td>...</td>\n",
       "      <td>Daylight: Street light present</td>\n",
       "      <td>Fine without high winds</td>\n",
       "      <td>Dry</td>\n",
       "      <td>None</td>\n",
       "      <td>None</td>\n",
       "      <td>1</td>\n",
       "      <td>No</td>\n",
       "      <td>England</td>\n",
       "      <td>RM8 1DD</td>\n",
       "      <td>United Kingdom</td>\n",
       "    </tr>\n",
       "    <tr>\n",
       "      <th>2</th>\n",
       "      <td>21</td>\n",
       "      <td>13</td>\n",
       "      <td>2</td>\n",
       "      <td>0</td>\n",
       "      <td>27-09-2013</td>\n",
       "      <td>3</td>\n",
       "      <td>19:10</td>\n",
       "      <td>155</td>\n",
       "      <td>E09000012</td>\n",
       "      <td>3</td>\n",
       "      <td>...</td>\n",
       "      <td>Daylight: Street light present</td>\n",
       "      <td>Fine without high winds</td>\n",
       "      <td>Wet/Damp</td>\n",
       "      <td>None</td>\n",
       "      <td>None</td>\n",
       "      <td>1</td>\n",
       "      <td>Yes</td>\n",
       "      <td>England</td>\n",
       "      <td>SE23 1NH</td>\n",
       "      <td>United Kingdom</td>\n",
       "    </tr>\n",
       "    <tr>\n",
       "      <th>3</th>\n",
       "      <td>23</td>\n",
       "      <td>13</td>\n",
       "      <td>2</td>\n",
       "      <td>0</td>\n",
       "      <td>13-03-2013</td>\n",
       "      <td>4</td>\n",
       "      <td>09:19</td>\n",
       "      <td>26</td>\n",
       "      <td>E10000016</td>\n",
       "      <td>4</td>\n",
       "      <td>...</td>\n",
       "      <td>Daylight: Street light present</td>\n",
       "      <td>Fine without high winds</td>\n",
       "      <td>Dry</td>\n",
       "      <td>None</td>\n",
       "      <td>None</td>\n",
       "      <td>1</td>\n",
       "      <td>Yes</td>\n",
       "      <td>England</td>\n",
       "      <td>HU10 7QS</td>\n",
       "      <td>United Kingdom</td>\n",
       "    </tr>\n",
       "    <tr>\n",
       "      <th>4</th>\n",
       "      <td>28</td>\n",
       "      <td>14</td>\n",
       "      <td>2</td>\n",
       "      <td>0</td>\n",
       "      <td>13-06-2013</td>\n",
       "      <td>1</td>\n",
       "      <td>14:59</td>\n",
       "      <td>6</td>\n",
       "      <td>E08000012</td>\n",
       "      <td>4</td>\n",
       "      <td>...</td>\n",
       "      <td>Daylight: Street light present</td>\n",
       "      <td>Fine without high winds</td>\n",
       "      <td>Dry</td>\n",
       "      <td>None</td>\n",
       "      <td>None</td>\n",
       "      <td>1</td>\n",
       "      <td>Yes</td>\n",
       "      <td>England</td>\n",
       "      <td>BD23 5JL</td>\n",
       "      <td>United Kingdom</td>\n",
       "    </tr>\n",
       "  </tbody>\n",
       "</table>\n",
       "<p>5 rows × 27 columns</p>\n",
       "</div>"
      ],
      "text/plain": [
       "   Accident_ID  Police_Force  Number_of_Vehicles  Number_of_Casualties  \\\n",
       "0           14            13                   2                     0   \n",
       "1           17            13                   2                     0   \n",
       "2           21            13                   2                     0   \n",
       "3           23            13                   2                     0   \n",
       "4           28            14                   2                     0   \n",
       "\n",
       "         Date  Day_of_Week   Time  Local_Authority_(District)  \\\n",
       "0  06-10-2013            6  13:28                         218   \n",
       "1  22-04-2013            7  09:30                         157   \n",
       "2  27-09-2013            3  19:10                         155   \n",
       "3  13-03-2013            4  09:19                          26   \n",
       "4  13-06-2013            1  14:59                           6   \n",
       "\n",
       "  Local_Authority_(Highway)  1st_Road_Class  ...  \\\n",
       "0                 E10000032               4  ...   \n",
       "1                 E10000034               6  ...   \n",
       "2                 E09000012               3  ...   \n",
       "3                 E10000016               4  ...   \n",
       "4                 E08000012               4  ...   \n",
       "\n",
       "                 Light_Conditions          Weather_Conditions  \\\n",
       "0  Daylight: Street light present  Snowing without high winds   \n",
       "1  Daylight: Street light present     Fine without high winds   \n",
       "2  Daylight: Street light present     Fine without high winds   \n",
       "3  Daylight: Street light present     Fine without high winds   \n",
       "4  Daylight: Street light present     Fine without high winds   \n",
       "\n",
       "   Road_Surface_Conditions  Special_Conditions_at_Site  Carriageway_Hazards  \\\n",
       "0                      Dry                        None                 None   \n",
       "1                      Dry                        None                 None   \n",
       "2                 Wet/Damp                        None                 None   \n",
       "3                      Dry                        None                 None   \n",
       "4                      Dry                        None                 None   \n",
       "\n",
       "  Urban_or_Rural_Area Did_Police_Officer_Attend_Scene_of_Accident    state  \\\n",
       "0                   2                                         Yes  England   \n",
       "1                   1                                          No  England   \n",
       "2                   1                                         Yes  England   \n",
       "3                   1                                         Yes  England   \n",
       "4                   1                                         Yes  England   \n",
       "\n",
       "   postcode         country  \n",
       "0   HX2 8WH  United Kingdom  \n",
       "1   RM8 1DD  United Kingdom  \n",
       "2  SE23 1NH  United Kingdom  \n",
       "3  HU10 7QS  United Kingdom  \n",
       "4  BD23 5JL  United Kingdom  \n",
       "\n",
       "[5 rows x 27 columns]"
      ]
     },
     "execution_count": 130,
     "metadata": {},
     "output_type": "execute_result"
    }
   ],
   "source": [
    "accident_factors=pd.read_csv(\"C:/Users/sachi/Documents/sem2/Project/Dataset/test.csv\")\n",
    "accident_factors.head()"
   ]
  },
  {
   "cell_type": "code",
   "execution_count": 132,
   "id": "d0442406",
   "metadata": {},
   "outputs": [
    {
     "data": {
      "text/plain": [
       "array([2, 3, 1, 4], dtype=int64)"
      ]
     },
     "execution_count": 132,
     "metadata": {},
     "output_type": "execute_result"
    }
   ],
   "source": [
    "accident_factors['Number_of_Casualties'].unique()\n",
    "accident_factors['Number_of_Vehicles'].unique()"
   ]
  },
  {
   "cell_type": "code",
   "execution_count": 78,
   "id": "dfc1ca87",
   "metadata": {},
   "outputs": [
    {
     "data": {
      "text/plain": [
       "Accident_ID                                     int64\n",
       "Police_Force                                    int64\n",
       "Number_of_Vehicles                              int64\n",
       "Number_of_Casualties                            int64\n",
       "Date                                           object\n",
       "Day_of_Week                                     int64\n",
       "Time                                           object\n",
       "Local_Authority_(District)                      int64\n",
       "Local_Authority_(Highway)                      object\n",
       "1st_Road_Class                                  int64\n",
       "1st_Road_Number                                 int64\n",
       "Road_Type                                      object\n",
       "Speed_limit                                     int64\n",
       "2nd_Road_Class                                  int64\n",
       "2nd_Road_Number                                 int64\n",
       "Pedestrian_Crossing-Human_Control              object\n",
       "Pedestrian_Crossing-Physical_Facilities        object\n",
       "Light_Conditions                               object\n",
       "Weather_Conditions                             object\n",
       "Road_Surface_Conditions                        object\n",
       "Special_Conditions_at_Site                     object\n",
       "Carriageway_Hazards                            object\n",
       "Urban_or_Rural_Area                             int64\n",
       "Did_Police_Officer_Attend_Scene_of_Accident    object\n",
       "state                                          object\n",
       "postcode                                       object\n",
       "country                                        object\n",
       "dtype: object"
      ]
     },
     "execution_count": 78,
     "metadata": {},
     "output_type": "execute_result"
    }
   ],
   "source": [
    "accident_factors.dtypes"
   ]
  },
  {
   "cell_type": "code",
   "execution_count": 79,
   "id": "ef4b87dc",
   "metadata": {},
   "outputs": [],
   "source": [
    "# Need to change the data types of some of the columns\n",
    "accident_factors[\"Urban_or_Rural_Area\"]=accident_factors[\"Urban_or_Rural_Area\"].astype('category')"
   ]
  },
  {
   "cell_type": "code",
   "execution_count": 80,
   "id": "39634684",
   "metadata": {},
   "outputs": [],
   "source": [
    "accident_factors[\"2nd_Road_Number\"]= accident_factors[\"2nd_Road_Number\"].astype('category')\n",
    "accident_factors[\"2nd_Road_Class\"]= accident_factors[\"2nd_Road_Class\"].astype('category')"
   ]
  },
  {
   "cell_type": "code",
   "execution_count": 81,
   "id": "faf47ed7",
   "metadata": {},
   "outputs": [],
   "source": [
    "accident_factors[\"1st_Road_Number\"]= accident_factors[\"1st_Road_Number\"].astype('category')\n",
    "accident_factors[\"1st_Road_Class\"]= accident_factors[\"1st_Road_Class\"].astype('category')"
   ]
  },
  {
   "cell_type": "code",
   "execution_count": 82,
   "id": "512fc263",
   "metadata": {},
   "outputs": [],
   "source": [
    "accident_factors[\"Local_Authority_(District)\"]= accident_factors[\"Local_Authority_(District)\"].astype('category')\n",
    "accident_factors[\"Day_of_Week\"]= accident_factors[\"Day_of_Week\"].astype('category')\n",
    "accident_factors[\"Accident_ID\"]= accident_factors[\"Accident_ID\"].astype(str)"
   ]
  },
  {
   "cell_type": "code",
   "execution_count": 83,
   "id": "3a298ee2",
   "metadata": {},
   "outputs": [
    {
     "name": "stderr",
     "output_type": "stream",
     "text": [
      "C:\\Users\\sachi\\anaconda3\\lib\\site-packages\\pandas\\core\\tools\\datetimes.py:1047: UserWarning: Parsing '22-04-2013' in DD/MM/YYYY format. Provide format or specify infer_datetime_format=True for consistent parsing.\n",
      "  cache_array = _maybe_cache(arg, format, cache, convert_listlike)\n",
      "C:\\Users\\sachi\\anaconda3\\lib\\site-packages\\pandas\\core\\tools\\datetimes.py:1047: UserWarning: Parsing '27-09-2013' in DD/MM/YYYY format. Provide format or specify infer_datetime_format=True for consistent parsing.\n",
      "  cache_array = _maybe_cache(arg, format, cache, convert_listlike)\n",
      "C:\\Users\\sachi\\anaconda3\\lib\\site-packages\\pandas\\core\\tools\\datetimes.py:1047: UserWarning: Parsing '13-03-2013' in DD/MM/YYYY format. Provide format or specify infer_datetime_format=True for consistent parsing.\n",
      "  cache_array = _maybe_cache(arg, format, cache, convert_listlike)\n",
      "C:\\Users\\sachi\\anaconda3\\lib\\site-packages\\pandas\\core\\tools\\datetimes.py:1047: UserWarning: Parsing '13-06-2013' in DD/MM/YYYY format. Provide format or specify infer_datetime_format=True for consistent parsing.\n",
      "  cache_array = _maybe_cache(arg, format, cache, convert_listlike)\n",
      "C:\\Users\\sachi\\anaconda3\\lib\\site-packages\\pandas\\core\\tools\\datetimes.py:1047: UserWarning: Parsing '24-10-2013' in DD/MM/YYYY format. Provide format or specify infer_datetime_format=True for consistent parsing.\n",
      "  cache_array = _maybe_cache(arg, format, cache, convert_listlike)\n",
      "C:\\Users\\sachi\\anaconda3\\lib\\site-packages\\pandas\\core\\tools\\datetimes.py:1047: UserWarning: Parsing '19-07-2013' in DD/MM/YYYY format. Provide format or specify infer_datetime_format=True for consistent parsing.\n",
      "  cache_array = _maybe_cache(arg, format, cache, convert_listlike)\n",
      "C:\\Users\\sachi\\anaconda3\\lib\\site-packages\\pandas\\core\\tools\\datetimes.py:1047: UserWarning: Parsing '23-12-2013' in DD/MM/YYYY format. Provide format or specify infer_datetime_format=True for consistent parsing.\n",
      "  cache_array = _maybe_cache(arg, format, cache, convert_listlike)\n",
      "C:\\Users\\sachi\\anaconda3\\lib\\site-packages\\pandas\\core\\tools\\datetimes.py:1047: UserWarning: Parsing '24-06-2013' in DD/MM/YYYY format. Provide format or specify infer_datetime_format=True for consistent parsing.\n",
      "  cache_array = _maybe_cache(arg, format, cache, convert_listlike)\n",
      "C:\\Users\\sachi\\anaconda3\\lib\\site-packages\\pandas\\core\\tools\\datetimes.py:1047: UserWarning: Parsing '30-04-2013' in DD/MM/YYYY format. Provide format or specify infer_datetime_format=True for consistent parsing.\n",
      "  cache_array = _maybe_cache(arg, format, cache, convert_listlike)\n",
      "C:\\Users\\sachi\\anaconda3\\lib\\site-packages\\pandas\\core\\tools\\datetimes.py:1047: UserWarning: Parsing '21-10-2013' in DD/MM/YYYY format. Provide format or specify infer_datetime_format=True for consistent parsing.\n",
      "  cache_array = _maybe_cache(arg, format, cache, convert_listlike)\n",
      "C:\\Users\\sachi\\anaconda3\\lib\\site-packages\\pandas\\core\\tools\\datetimes.py:1047: UserWarning: Parsing '28-11-2013' in DD/MM/YYYY format. Provide format or specify infer_datetime_format=True for consistent parsing.\n",
      "  cache_array = _maybe_cache(arg, format, cache, convert_listlike)\n",
      "C:\\Users\\sachi\\anaconda3\\lib\\site-packages\\pandas\\core\\tools\\datetimes.py:1047: UserWarning: Parsing '14-07-2013' in DD/MM/YYYY format. Provide format or specify infer_datetime_format=True for consistent parsing.\n",
      "  cache_array = _maybe_cache(arg, format, cache, convert_listlike)\n",
      "C:\\Users\\sachi\\anaconda3\\lib\\site-packages\\pandas\\core\\tools\\datetimes.py:1047: UserWarning: Parsing '18-04-2013' in DD/MM/YYYY format. Provide format or specify infer_datetime_format=True for consistent parsing.\n",
      "  cache_array = _maybe_cache(arg, format, cache, convert_listlike)\n",
      "C:\\Users\\sachi\\anaconda3\\lib\\site-packages\\pandas\\core\\tools\\datetimes.py:1047: UserWarning: Parsing '29-03-2013' in DD/MM/YYYY format. Provide format or specify infer_datetime_format=True for consistent parsing.\n",
      "  cache_array = _maybe_cache(arg, format, cache, convert_listlike)\n",
      "C:\\Users\\sachi\\anaconda3\\lib\\site-packages\\pandas\\core\\tools\\datetimes.py:1047: UserWarning: Parsing '27-08-2013' in DD/MM/YYYY format. Provide format or specify infer_datetime_format=True for consistent parsing.\n",
      "  cache_array = _maybe_cache(arg, format, cache, convert_listlike)\n",
      "C:\\Users\\sachi\\anaconda3\\lib\\site-packages\\pandas\\core\\tools\\datetimes.py:1047: UserWarning: Parsing '29-06-2013' in DD/MM/YYYY format. Provide format or specify infer_datetime_format=True for consistent parsing.\n",
      "  cache_array = _maybe_cache(arg, format, cache, convert_listlike)\n",
      "C:\\Users\\sachi\\anaconda3\\lib\\site-packages\\pandas\\core\\tools\\datetimes.py:1047: UserWarning: Parsing '22-02-2013' in DD/MM/YYYY format. Provide format or specify infer_datetime_format=True for consistent parsing.\n",
      "  cache_array = _maybe_cache(arg, format, cache, convert_listlike)\n",
      "C:\\Users\\sachi\\anaconda3\\lib\\site-packages\\pandas\\core\\tools\\datetimes.py:1047: UserWarning: Parsing '13-08-2013' in DD/MM/YYYY format. Provide format or specify infer_datetime_format=True for consistent parsing.\n",
      "  cache_array = _maybe_cache(arg, format, cache, convert_listlike)\n",
      "C:\\Users\\sachi\\anaconda3\\lib\\site-packages\\pandas\\core\\tools\\datetimes.py:1047: UserWarning: Parsing '15-03-2013' in DD/MM/YYYY format. Provide format or specify infer_datetime_format=True for consistent parsing.\n",
      "  cache_array = _maybe_cache(arg, format, cache, convert_listlike)\n",
      "C:\\Users\\sachi\\anaconda3\\lib\\site-packages\\pandas\\core\\tools\\datetimes.py:1047: UserWarning: Parsing '26-07-2013' in DD/MM/YYYY format. Provide format or specify infer_datetime_format=True for consistent parsing.\n",
      "  cache_array = _maybe_cache(arg, format, cache, convert_listlike)\n",
      "C:\\Users\\sachi\\anaconda3\\lib\\site-packages\\pandas\\core\\tools\\datetimes.py:1047: UserWarning: Parsing '13-02-2013' in DD/MM/YYYY format. Provide format or specify infer_datetime_format=True for consistent parsing.\n",
      "  cache_array = _maybe_cache(arg, format, cache, convert_listlike)\n",
      "C:\\Users\\sachi\\anaconda3\\lib\\site-packages\\pandas\\core\\tools\\datetimes.py:1047: UserWarning: Parsing '19-02-2013' in DD/MM/YYYY format. Provide format or specify infer_datetime_format=True for consistent parsing.\n",
      "  cache_array = _maybe_cache(arg, format, cache, convert_listlike)\n",
      "C:\\Users\\sachi\\anaconda3\\lib\\site-packages\\pandas\\core\\tools\\datetimes.py:1047: UserWarning: Parsing '15-04-2013' in DD/MM/YYYY format. Provide format or specify infer_datetime_format=True for consistent parsing.\n",
      "  cache_array = _maybe_cache(arg, format, cache, convert_listlike)\n",
      "C:\\Users\\sachi\\anaconda3\\lib\\site-packages\\pandas\\core\\tools\\datetimes.py:1047: UserWarning: Parsing '22-08-2013' in DD/MM/YYYY format. Provide format or specify infer_datetime_format=True for consistent parsing.\n",
      "  cache_array = _maybe_cache(arg, format, cache, convert_listlike)\n",
      "C:\\Users\\sachi\\anaconda3\\lib\\site-packages\\pandas\\core\\tools\\datetimes.py:1047: UserWarning: Parsing '20-04-2013' in DD/MM/YYYY format. Provide format or specify infer_datetime_format=True for consistent parsing.\n",
      "  cache_array = _maybe_cache(arg, format, cache, convert_listlike)\n",
      "C:\\Users\\sachi\\anaconda3\\lib\\site-packages\\pandas\\core\\tools\\datetimes.py:1047: UserWarning: Parsing '14-03-2013' in DD/MM/YYYY format. Provide format or specify infer_datetime_format=True for consistent parsing.\n",
      "  cache_array = _maybe_cache(arg, format, cache, convert_listlike)\n",
      "C:\\Users\\sachi\\anaconda3\\lib\\site-packages\\pandas\\core\\tools\\datetimes.py:1047: UserWarning: Parsing '16-09-2013' in DD/MM/YYYY format. Provide format or specify infer_datetime_format=True for consistent parsing.\n",
      "  cache_array = _maybe_cache(arg, format, cache, convert_listlike)\n",
      "C:\\Users\\sachi\\anaconda3\\lib\\site-packages\\pandas\\core\\tools\\datetimes.py:1047: UserWarning: Parsing '29-08-2013' in DD/MM/YYYY format. Provide format or specify infer_datetime_format=True for consistent parsing.\n",
      "  cache_array = _maybe_cache(arg, format, cache, convert_listlike)\n",
      "C:\\Users\\sachi\\anaconda3\\lib\\site-packages\\pandas\\core\\tools\\datetimes.py:1047: UserWarning: Parsing '25-02-2013' in DD/MM/YYYY format. Provide format or specify infer_datetime_format=True for consistent parsing.\n",
      "  cache_array = _maybe_cache(arg, format, cache, convert_listlike)\n",
      "C:\\Users\\sachi\\anaconda3\\lib\\site-packages\\pandas\\core\\tools\\datetimes.py:1047: UserWarning: Parsing '28-01-2013' in DD/MM/YYYY format. Provide format or specify infer_datetime_format=True for consistent parsing.\n",
      "  cache_array = _maybe_cache(arg, format, cache, convert_listlike)\n",
      "C:\\Users\\sachi\\anaconda3\\lib\\site-packages\\pandas\\core\\tools\\datetimes.py:1047: UserWarning: Parsing '27-07-2013' in DD/MM/YYYY format. Provide format or specify infer_datetime_format=True for consistent parsing.\n",
      "  cache_array = _maybe_cache(arg, format, cache, convert_listlike)\n",
      "C:\\Users\\sachi\\anaconda3\\lib\\site-packages\\pandas\\core\\tools\\datetimes.py:1047: UserWarning: Parsing '27-11-2013' in DD/MM/YYYY format. Provide format or specify infer_datetime_format=True for consistent parsing.\n",
      "  cache_array = _maybe_cache(arg, format, cache, convert_listlike)\n",
      "C:\\Users\\sachi\\anaconda3\\lib\\site-packages\\pandas\\core\\tools\\datetimes.py:1047: UserWarning: Parsing '19-04-2013' in DD/MM/YYYY format. Provide format or specify infer_datetime_format=True for consistent parsing.\n",
      "  cache_array = _maybe_cache(arg, format, cache, convert_listlike)\n",
      "C:\\Users\\sachi\\anaconda3\\lib\\site-packages\\pandas\\core\\tools\\datetimes.py:1047: UserWarning: Parsing '16-12-2013' in DD/MM/YYYY format. Provide format or specify infer_datetime_format=True for consistent parsing.\n",
      "  cache_array = _maybe_cache(arg, format, cache, convert_listlike)\n",
      "C:\\Users\\sachi\\anaconda3\\lib\\site-packages\\pandas\\core\\tools\\datetimes.py:1047: UserWarning: Parsing '30-03-2013' in DD/MM/YYYY format. Provide format or specify infer_datetime_format=True for consistent parsing.\n",
      "  cache_array = _maybe_cache(arg, format, cache, convert_listlike)\n",
      "C:\\Users\\sachi\\anaconda3\\lib\\site-packages\\pandas\\core\\tools\\datetimes.py:1047: UserWarning: Parsing '17-12-2013' in DD/MM/YYYY format. Provide format or specify infer_datetime_format=True for consistent parsing.\n",
      "  cache_array = _maybe_cache(arg, format, cache, convert_listlike)\n",
      "C:\\Users\\sachi\\anaconda3\\lib\\site-packages\\pandas\\core\\tools\\datetimes.py:1047: UserWarning: Parsing '16-08-2013' in DD/MM/YYYY format. Provide format or specify infer_datetime_format=True for consistent parsing.\n",
      "  cache_array = _maybe_cache(arg, format, cache, convert_listlike)\n",
      "C:\\Users\\sachi\\anaconda3\\lib\\site-packages\\pandas\\core\\tools\\datetimes.py:1047: UserWarning: Parsing '26-04-2013' in DD/MM/YYYY format. Provide format or specify infer_datetime_format=True for consistent parsing.\n",
      "  cache_array = _maybe_cache(arg, format, cache, convert_listlike)\n",
      "C:\\Users\\sachi\\anaconda3\\lib\\site-packages\\pandas\\core\\tools\\datetimes.py:1047: UserWarning: Parsing '30-08-2013' in DD/MM/YYYY format. Provide format or specify infer_datetime_format=True for consistent parsing.\n",
      "  cache_array = _maybe_cache(arg, format, cache, convert_listlike)\n",
      "C:\\Users\\sachi\\anaconda3\\lib\\site-packages\\pandas\\core\\tools\\datetimes.py:1047: UserWarning: Parsing '13-09-2013' in DD/MM/YYYY format. Provide format or specify infer_datetime_format=True for consistent parsing.\n",
      "  cache_array = _maybe_cache(arg, format, cache, convert_listlike)\n",
      "C:\\Users\\sachi\\anaconda3\\lib\\site-packages\\pandas\\core\\tools\\datetimes.py:1047: UserWarning: Parsing '20-06-2013' in DD/MM/YYYY format. Provide format or specify infer_datetime_format=True for consistent parsing.\n",
      "  cache_array = _maybe_cache(arg, format, cache, convert_listlike)\n",
      "C:\\Users\\sachi\\anaconda3\\lib\\site-packages\\pandas\\core\\tools\\datetimes.py:1047: UserWarning: Parsing '18-07-2013' in DD/MM/YYYY format. Provide format or specify infer_datetime_format=True for consistent parsing.\n",
      "  cache_array = _maybe_cache(arg, format, cache, convert_listlike)\n",
      "C:\\Users\\sachi\\anaconda3\\lib\\site-packages\\pandas\\core\\tools\\datetimes.py:1047: UserWarning: Parsing '15-02-2013' in DD/MM/YYYY format. Provide format or specify infer_datetime_format=True for consistent parsing.\n",
      "  cache_array = _maybe_cache(arg, format, cache, convert_listlike)\n",
      "C:\\Users\\sachi\\anaconda3\\lib\\site-packages\\pandas\\core\\tools\\datetimes.py:1047: UserWarning: Parsing '25-09-2013' in DD/MM/YYYY format. Provide format or specify infer_datetime_format=True for consistent parsing.\n",
      "  cache_array = _maybe_cache(arg, format, cache, convert_listlike)\n",
      "C:\\Users\\sachi\\anaconda3\\lib\\site-packages\\pandas\\core\\tools\\datetimes.py:1047: UserWarning: Parsing '24-07-2013' in DD/MM/YYYY format. Provide format or specify infer_datetime_format=True for consistent parsing.\n",
      "  cache_array = _maybe_cache(arg, format, cache, convert_listlike)\n",
      "C:\\Users\\sachi\\anaconda3\\lib\\site-packages\\pandas\\core\\tools\\datetimes.py:1047: UserWarning: Parsing '18-06-2013' in DD/MM/YYYY format. Provide format or specify infer_datetime_format=True for consistent parsing.\n",
      "  cache_array = _maybe_cache(arg, format, cache, convert_listlike)\n",
      "C:\\Users\\sachi\\anaconda3\\lib\\site-packages\\pandas\\core\\tools\\datetimes.py:1047: UserWarning: Parsing '25-06-2013' in DD/MM/YYYY format. Provide format or specify infer_datetime_format=True for consistent parsing.\n",
      "  cache_array = _maybe_cache(arg, format, cache, convert_listlike)\n",
      "C:\\Users\\sachi\\anaconda3\\lib\\site-packages\\pandas\\core\\tools\\datetimes.py:1047: UserWarning: Parsing '20-08-2013' in DD/MM/YYYY format. Provide format or specify infer_datetime_format=True for consistent parsing.\n",
      "  cache_array = _maybe_cache(arg, format, cache, convert_listlike)\n",
      "C:\\Users\\sachi\\anaconda3\\lib\\site-packages\\pandas\\core\\tools\\datetimes.py:1047: UserWarning: Parsing '28-06-2013' in DD/MM/YYYY format. Provide format or specify infer_datetime_format=True for consistent parsing.\n",
      "  cache_array = _maybe_cache(arg, format, cache, convert_listlike)\n",
      "C:\\Users\\sachi\\anaconda3\\lib\\site-packages\\pandas\\core\\tools\\datetimes.py:1047: UserWarning: Parsing '31-05-2013' in DD/MM/YYYY format. Provide format or specify infer_datetime_format=True for consistent parsing.\n",
      "  cache_array = _maybe_cache(arg, format, cache, convert_listlike)\n",
      "C:\\Users\\sachi\\anaconda3\\lib\\site-packages\\pandas\\core\\tools\\datetimes.py:1047: UserWarning: Parsing '23-07-2013' in DD/MM/YYYY format. Provide format or specify infer_datetime_format=True for consistent parsing.\n",
      "  cache_array = _maybe_cache(arg, format, cache, convert_listlike)\n",
      "C:\\Users\\sachi\\anaconda3\\lib\\site-packages\\pandas\\core\\tools\\datetimes.py:1047: UserWarning: Parsing '26-06-2013' in DD/MM/YYYY format. Provide format or specify infer_datetime_format=True for consistent parsing.\n",
      "  cache_array = _maybe_cache(arg, format, cache, convert_listlike)\n",
      "C:\\Users\\sachi\\anaconda3\\lib\\site-packages\\pandas\\core\\tools\\datetimes.py:1047: UserWarning: Parsing '13-10-2013' in DD/MM/YYYY format. Provide format or specify infer_datetime_format=True for consistent parsing.\n",
      "  cache_array = _maybe_cache(arg, format, cache, convert_listlike)\n",
      "C:\\Users\\sachi\\anaconda3\\lib\\site-packages\\pandas\\core\\tools\\datetimes.py:1047: UserWarning: Parsing '16-10-2013' in DD/MM/YYYY format. Provide format or specify infer_datetime_format=True for consistent parsing.\n",
      "  cache_array = _maybe_cache(arg, format, cache, convert_listlike)\n",
      "C:\\Users\\sachi\\anaconda3\\lib\\site-packages\\pandas\\core\\tools\\datetimes.py:1047: UserWarning: Parsing '24-04-2013' in DD/MM/YYYY format. Provide format or specify infer_datetime_format=True for consistent parsing.\n",
      "  cache_array = _maybe_cache(arg, format, cache, convert_listlike)\n",
      "C:\\Users\\sachi\\anaconda3\\lib\\site-packages\\pandas\\core\\tools\\datetimes.py:1047: UserWarning: Parsing '23-05-2013' in DD/MM/YYYY format. Provide format or specify infer_datetime_format=True for consistent parsing.\n",
      "  cache_array = _maybe_cache(arg, format, cache, convert_listlike)\n",
      "C:\\Users\\sachi\\anaconda3\\lib\\site-packages\\pandas\\core\\tools\\datetimes.py:1047: UserWarning: Parsing '21-04-2013' in DD/MM/YYYY format. Provide format or specify infer_datetime_format=True for consistent parsing.\n",
      "  cache_array = _maybe_cache(arg, format, cache, convert_listlike)\n",
      "C:\\Users\\sachi\\anaconda3\\lib\\site-packages\\pandas\\core\\tools\\datetimes.py:1047: UserWarning: Parsing '21-09-2013' in DD/MM/YYYY format. Provide format or specify infer_datetime_format=True for consistent parsing.\n",
      "  cache_array = _maybe_cache(arg, format, cache, convert_listlike)\n",
      "C:\\Users\\sachi\\anaconda3\\lib\\site-packages\\pandas\\core\\tools\\datetimes.py:1047: UserWarning: Parsing '31-08-2013' in DD/MM/YYYY format. Provide format or specify infer_datetime_format=True for consistent parsing.\n",
      "  cache_array = _maybe_cache(arg, format, cache, convert_listlike)\n",
      "C:\\Users\\sachi\\anaconda3\\lib\\site-packages\\pandas\\core\\tools\\datetimes.py:1047: UserWarning: Parsing '25-05-2013' in DD/MM/YYYY format. Provide format or specify infer_datetime_format=True for consistent parsing.\n",
      "  cache_array = _maybe_cache(arg, format, cache, convert_listlike)\n",
      "C:\\Users\\sachi\\anaconda3\\lib\\site-packages\\pandas\\core\\tools\\datetimes.py:1047: UserWarning: Parsing '21-07-2013' in DD/MM/YYYY format. Provide format or specify infer_datetime_format=True for consistent parsing.\n",
      "  cache_array = _maybe_cache(arg, format, cache, convert_listlike)\n",
      "C:\\Users\\sachi\\anaconda3\\lib\\site-packages\\pandas\\core\\tools\\datetimes.py:1047: UserWarning: Parsing '22-11-2013' in DD/MM/YYYY format. Provide format or specify infer_datetime_format=True for consistent parsing.\n",
      "  cache_array = _maybe_cache(arg, format, cache, convert_listlike)\n",
      "C:\\Users\\sachi\\anaconda3\\lib\\site-packages\\pandas\\core\\tools\\datetimes.py:1047: UserWarning: Parsing '26-09-2013' in DD/MM/YYYY format. Provide format or specify infer_datetime_format=True for consistent parsing.\n",
      "  cache_array = _maybe_cache(arg, format, cache, convert_listlike)\n",
      "C:\\Users\\sachi\\anaconda3\\lib\\site-packages\\pandas\\core\\tools\\datetimes.py:1047: UserWarning: Parsing '15-05-2013' in DD/MM/YYYY format. Provide format or specify infer_datetime_format=True for consistent parsing.\n",
      "  cache_array = _maybe_cache(arg, format, cache, convert_listlike)\n",
      "C:\\Users\\sachi\\anaconda3\\lib\\site-packages\\pandas\\core\\tools\\datetimes.py:1047: UserWarning: Parsing '30-10-2013' in DD/MM/YYYY format. Provide format or specify infer_datetime_format=True for consistent parsing.\n",
      "  cache_array = _maybe_cache(arg, format, cache, convert_listlike)\n",
      "C:\\Users\\sachi\\anaconda3\\lib\\site-packages\\pandas\\core\\tools\\datetimes.py:1047: UserWarning: Parsing '21-02-2013' in DD/MM/YYYY format. Provide format or specify infer_datetime_format=True for consistent parsing.\n",
      "  cache_array = _maybe_cache(arg, format, cache, convert_listlike)\n",
      "C:\\Users\\sachi\\anaconda3\\lib\\site-packages\\pandas\\core\\tools\\datetimes.py:1047: UserWarning: Parsing '29-09-2013' in DD/MM/YYYY format. Provide format or specify infer_datetime_format=True for consistent parsing.\n",
      "  cache_array = _maybe_cache(arg, format, cache, convert_listlike)\n",
      "C:\\Users\\sachi\\anaconda3\\lib\\site-packages\\pandas\\core\\tools\\datetimes.py:1047: UserWarning: Parsing '14-06-2013' in DD/MM/YYYY format. Provide format or specify infer_datetime_format=True for consistent parsing.\n",
      "  cache_array = _maybe_cache(arg, format, cache, convert_listlike)\n",
      "C:\\Users\\sachi\\anaconda3\\lib\\site-packages\\pandas\\core\\tools\\datetimes.py:1047: UserWarning: Parsing '28-04-2013' in DD/MM/YYYY format. Provide format or specify infer_datetime_format=True for consistent parsing.\n",
      "  cache_array = _maybe_cache(arg, format, cache, convert_listlike)\n",
      "C:\\Users\\sachi\\anaconda3\\lib\\site-packages\\pandas\\core\\tools\\datetimes.py:1047: UserWarning: Parsing '26-08-2013' in DD/MM/YYYY format. Provide format or specify infer_datetime_format=True for consistent parsing.\n",
      "  cache_array = _maybe_cache(arg, format, cache, convert_listlike)\n",
      "C:\\Users\\sachi\\anaconda3\\lib\\site-packages\\pandas\\core\\tools\\datetimes.py:1047: UserWarning: Parsing '17-06-2013' in DD/MM/YYYY format. Provide format or specify infer_datetime_format=True for consistent parsing.\n",
      "  cache_array = _maybe_cache(arg, format, cache, convert_listlike)\n",
      "C:\\Users\\sachi\\anaconda3\\lib\\site-packages\\pandas\\core\\tools\\datetimes.py:1047: UserWarning: Parsing '14-01-2013' in DD/MM/YYYY format. Provide format or specify infer_datetime_format=True for consistent parsing.\n",
      "  cache_array = _maybe_cache(arg, format, cache, convert_listlike)\n",
      "C:\\Users\\sachi\\anaconda3\\lib\\site-packages\\pandas\\core\\tools\\datetimes.py:1047: UserWarning: Parsing '26-03-2013' in DD/MM/YYYY format. Provide format or specify infer_datetime_format=True for consistent parsing.\n",
      "  cache_array = _maybe_cache(arg, format, cache, convert_listlike)\n",
      "C:\\Users\\sachi\\anaconda3\\lib\\site-packages\\pandas\\core\\tools\\datetimes.py:1047: UserWarning: Parsing '21-06-2013' in DD/MM/YYYY format. Provide format or specify infer_datetime_format=True for consistent parsing.\n",
      "  cache_array = _maybe_cache(arg, format, cache, convert_listlike)\n",
      "C:\\Users\\sachi\\anaconda3\\lib\\site-packages\\pandas\\core\\tools\\datetimes.py:1047: UserWarning: Parsing '18-05-2013' in DD/MM/YYYY format. Provide format or specify infer_datetime_format=True for consistent parsing.\n",
      "  cache_array = _maybe_cache(arg, format, cache, convert_listlike)\n",
      "C:\\Users\\sachi\\anaconda3\\lib\\site-packages\\pandas\\core\\tools\\datetimes.py:1047: UserWarning: Parsing '18-10-2013' in DD/MM/YYYY format. Provide format or specify infer_datetime_format=True for consistent parsing.\n",
      "  cache_array = _maybe_cache(arg, format, cache, convert_listlike)\n",
      "C:\\Users\\sachi\\anaconda3\\lib\\site-packages\\pandas\\core\\tools\\datetimes.py:1047: UserWarning: Parsing '22-03-2013' in DD/MM/YYYY format. Provide format or specify infer_datetime_format=True for consistent parsing.\n",
      "  cache_array = _maybe_cache(arg, format, cache, convert_listlike)\n",
      "C:\\Users\\sachi\\anaconda3\\lib\\site-packages\\pandas\\core\\tools\\datetimes.py:1047: UserWarning: Parsing '26-02-2013' in DD/MM/YYYY format. Provide format or specify infer_datetime_format=True for consistent parsing.\n",
      "  cache_array = _maybe_cache(arg, format, cache, convert_listlike)\n",
      "C:\\Users\\sachi\\anaconda3\\lib\\site-packages\\pandas\\core\\tools\\datetimes.py:1047: UserWarning: Parsing '24-09-2013' in DD/MM/YYYY format. Provide format or specify infer_datetime_format=True for consistent parsing.\n",
      "  cache_array = _maybe_cache(arg, format, cache, convert_listlike)\n",
      "C:\\Users\\sachi\\anaconda3\\lib\\site-packages\\pandas\\core\\tools\\datetimes.py:1047: UserWarning: Parsing '29-05-2013' in DD/MM/YYYY format. Provide format or specify infer_datetime_format=True for consistent parsing.\n",
      "  cache_array = _maybe_cache(arg, format, cache, convert_listlike)\n",
      "C:\\Users\\sachi\\anaconda3\\lib\\site-packages\\pandas\\core\\tools\\datetimes.py:1047: UserWarning: Parsing '14-12-2013' in DD/MM/YYYY format. Provide format or specify infer_datetime_format=True for consistent parsing.\n",
      "  cache_array = _maybe_cache(arg, format, cache, convert_listlike)\n",
      "C:\\Users\\sachi\\anaconda3\\lib\\site-packages\\pandas\\core\\tools\\datetimes.py:1047: UserWarning: Parsing '30-01-2013' in DD/MM/YYYY format. Provide format or specify infer_datetime_format=True for consistent parsing.\n",
      "  cache_array = _maybe_cache(arg, format, cache, convert_listlike)\n",
      "C:\\Users\\sachi\\anaconda3\\lib\\site-packages\\pandas\\core\\tools\\datetimes.py:1047: UserWarning: Parsing '26-12-2013' in DD/MM/YYYY format. Provide format or specify infer_datetime_format=True for consistent parsing.\n",
      "  cache_array = _maybe_cache(arg, format, cache, convert_listlike)\n",
      "C:\\Users\\sachi\\anaconda3\\lib\\site-packages\\pandas\\core\\tools\\datetimes.py:1047: UserWarning: Parsing '18-09-2013' in DD/MM/YYYY format. Provide format or specify infer_datetime_format=True for consistent parsing.\n",
      "  cache_array = _maybe_cache(arg, format, cache, convert_listlike)\n",
      "C:\\Users\\sachi\\anaconda3\\lib\\site-packages\\pandas\\core\\tools\\datetimes.py:1047: UserWarning: Parsing '25-07-2013' in DD/MM/YYYY format. Provide format or specify infer_datetime_format=True for consistent parsing.\n",
      "  cache_array = _maybe_cache(arg, format, cache, convert_listlike)\n",
      "C:\\Users\\sachi\\anaconda3\\lib\\site-packages\\pandas\\core\\tools\\datetimes.py:1047: UserWarning: Parsing '29-11-2013' in DD/MM/YYYY format. Provide format or specify infer_datetime_format=True for consistent parsing.\n",
      "  cache_array = _maybe_cache(arg, format, cache, convert_listlike)\n",
      "C:\\Users\\sachi\\anaconda3\\lib\\site-packages\\pandas\\core\\tools\\datetimes.py:1047: UserWarning: Parsing '29-01-2013' in DD/MM/YYYY format. Provide format or specify infer_datetime_format=True for consistent parsing.\n",
      "  cache_array = _maybe_cache(arg, format, cache, convert_listlike)\n",
      "C:\\Users\\sachi\\anaconda3\\lib\\site-packages\\pandas\\core\\tools\\datetimes.py:1047: UserWarning: Parsing '25-10-2013' in DD/MM/YYYY format. Provide format or specify infer_datetime_format=True for consistent parsing.\n",
      "  cache_array = _maybe_cache(arg, format, cache, convert_listlike)\n",
      "C:\\Users\\sachi\\anaconda3\\lib\\site-packages\\pandas\\core\\tools\\datetimes.py:1047: UserWarning: Parsing '22-01-2013' in DD/MM/YYYY format. Provide format or specify infer_datetime_format=True for consistent parsing.\n",
      "  cache_array = _maybe_cache(arg, format, cache, convert_listlike)\n",
      "C:\\Users\\sachi\\anaconda3\\lib\\site-packages\\pandas\\core\\tools\\datetimes.py:1047: UserWarning: Parsing '14-10-2013' in DD/MM/YYYY format. Provide format or specify infer_datetime_format=True for consistent parsing.\n",
      "  cache_array = _maybe_cache(arg, format, cache, convert_listlike)\n",
      "C:\\Users\\sachi\\anaconda3\\lib\\site-packages\\pandas\\core\\tools\\datetimes.py:1047: UserWarning: Parsing '16-07-2013' in DD/MM/YYYY format. Provide format or specify infer_datetime_format=True for consistent parsing.\n",
      "  cache_array = _maybe_cache(arg, format, cache, convert_listlike)\n",
      "C:\\Users\\sachi\\anaconda3\\lib\\site-packages\\pandas\\core\\tools\\datetimes.py:1047: UserWarning: Parsing '13-04-2013' in DD/MM/YYYY format. Provide format or specify infer_datetime_format=True for consistent parsing.\n",
      "  cache_array = _maybe_cache(arg, format, cache, convert_listlike)\n",
      "C:\\Users\\sachi\\anaconda3\\lib\\site-packages\\pandas\\core\\tools\\datetimes.py:1047: UserWarning: Parsing '22-07-2013' in DD/MM/YYYY format. Provide format or specify infer_datetime_format=True for consistent parsing.\n",
      "  cache_array = _maybe_cache(arg, format, cache, convert_listlike)\n",
      "C:\\Users\\sachi\\anaconda3\\lib\\site-packages\\pandas\\core\\tools\\datetimes.py:1047: UserWarning: Parsing '16-01-2013' in DD/MM/YYYY format. Provide format or specify infer_datetime_format=True for consistent parsing.\n",
      "  cache_array = _maybe_cache(arg, format, cache, convert_listlike)\n",
      "C:\\Users\\sachi\\anaconda3\\lib\\site-packages\\pandas\\core\\tools\\datetimes.py:1047: UserWarning: Parsing '27-02-2013' in DD/MM/YYYY format. Provide format or specify infer_datetime_format=True for consistent parsing.\n",
      "  cache_array = _maybe_cache(arg, format, cache, convert_listlike)\n",
      "C:\\Users\\sachi\\anaconda3\\lib\\site-packages\\pandas\\core\\tools\\datetimes.py:1047: UserWarning: Parsing '28-02-2013' in DD/MM/YYYY format. Provide format or specify infer_datetime_format=True for consistent parsing.\n",
      "  cache_array = _maybe_cache(arg, format, cache, convert_listlike)\n",
      "C:\\Users\\sachi\\anaconda3\\lib\\site-packages\\pandas\\core\\tools\\datetimes.py:1047: UserWarning: Parsing '18-12-2013' in DD/MM/YYYY format. Provide format or specify infer_datetime_format=True for consistent parsing.\n",
      "  cache_array = _maybe_cache(arg, format, cache, convert_listlike)\n",
      "C:\\Users\\sachi\\anaconda3\\lib\\site-packages\\pandas\\core\\tools\\datetimes.py:1047: UserWarning: Parsing '16-04-2013' in DD/MM/YYYY format. Provide format or specify infer_datetime_format=True for consistent parsing.\n",
      "  cache_array = _maybe_cache(arg, format, cache, convert_listlike)\n",
      "C:\\Users\\sachi\\anaconda3\\lib\\site-packages\\pandas\\core\\tools\\datetimes.py:1047: UserWarning: Parsing '24-12-2013' in DD/MM/YYYY format. Provide format or specify infer_datetime_format=True for consistent parsing.\n",
      "  cache_array = _maybe_cache(arg, format, cache, convert_listlike)\n",
      "C:\\Users\\sachi\\anaconda3\\lib\\site-packages\\pandas\\core\\tools\\datetimes.py:1047: UserWarning: Parsing '31-01-2013' in DD/MM/YYYY format. Provide format or specify infer_datetime_format=True for consistent parsing.\n",
      "  cache_array = _maybe_cache(arg, format, cache, convert_listlike)\n",
      "C:\\Users\\sachi\\anaconda3\\lib\\site-packages\\pandas\\core\\tools\\datetimes.py:1047: UserWarning: Parsing '18-01-2013' in DD/MM/YYYY format. Provide format or specify infer_datetime_format=True for consistent parsing.\n",
      "  cache_array = _maybe_cache(arg, format, cache, convert_listlike)\n",
      "C:\\Users\\sachi\\anaconda3\\lib\\site-packages\\pandas\\core\\tools\\datetimes.py:1047: UserWarning: Parsing '30-09-2013' in DD/MM/YYYY format. Provide format or specify infer_datetime_format=True for consistent parsing.\n",
      "  cache_array = _maybe_cache(arg, format, cache, convert_listlike)\n",
      "C:\\Users\\sachi\\anaconda3\\lib\\site-packages\\pandas\\core\\tools\\datetimes.py:1047: UserWarning: Parsing '31-07-2013' in DD/MM/YYYY format. Provide format or specify infer_datetime_format=True for consistent parsing.\n",
      "  cache_array = _maybe_cache(arg, format, cache, convert_listlike)\n",
      "C:\\Users\\sachi\\anaconda3\\lib\\site-packages\\pandas\\core\\tools\\datetimes.py:1047: UserWarning: Parsing '20-03-2013' in DD/MM/YYYY format. Provide format or specify infer_datetime_format=True for consistent parsing.\n",
      "  cache_array = _maybe_cache(arg, format, cache, convert_listlike)\n",
      "C:\\Users\\sachi\\anaconda3\\lib\\site-packages\\pandas\\core\\tools\\datetimes.py:1047: UserWarning: Parsing '19-06-2013' in DD/MM/YYYY format. Provide format or specify infer_datetime_format=True for consistent parsing.\n",
      "  cache_array = _maybe_cache(arg, format, cache, convert_listlike)\n",
      "C:\\Users\\sachi\\anaconda3\\lib\\site-packages\\pandas\\core\\tools\\datetimes.py:1047: UserWarning: Parsing '28-08-2013' in DD/MM/YYYY format. Provide format or specify infer_datetime_format=True for consistent parsing.\n",
      "  cache_array = _maybe_cache(arg, format, cache, convert_listlike)\n",
      "C:\\Users\\sachi\\anaconda3\\lib\\site-packages\\pandas\\core\\tools\\datetimes.py:1047: UserWarning: Parsing '17-01-2013' in DD/MM/YYYY format. Provide format or specify infer_datetime_format=True for consistent parsing.\n",
      "  cache_array = _maybe_cache(arg, format, cache, convert_listlike)\n",
      "C:\\Users\\sachi\\anaconda3\\lib\\site-packages\\pandas\\core\\tools\\datetimes.py:1047: UserWarning: Parsing '15-06-2013' in DD/MM/YYYY format. Provide format or specify infer_datetime_format=True for consistent parsing.\n",
      "  cache_array = _maybe_cache(arg, format, cache, convert_listlike)\n",
      "C:\\Users\\sachi\\anaconda3\\lib\\site-packages\\pandas\\core\\tools\\datetimes.py:1047: UserWarning: Parsing '25-11-2013' in DD/MM/YYYY format. Provide format or specify infer_datetime_format=True for consistent parsing.\n",
      "  cache_array = _maybe_cache(arg, format, cache, convert_listlike)\n",
      "C:\\Users\\sachi\\anaconda3\\lib\\site-packages\\pandas\\core\\tools\\datetimes.py:1047: UserWarning: Parsing '26-05-2013' in DD/MM/YYYY format. Provide format or specify infer_datetime_format=True for consistent parsing.\n",
      "  cache_array = _maybe_cache(arg, format, cache, convert_listlike)\n",
      "C:\\Users\\sachi\\anaconda3\\lib\\site-packages\\pandas\\core\\tools\\datetimes.py:1047: UserWarning: Parsing '18-03-2013' in DD/MM/YYYY format. Provide format or specify infer_datetime_format=True for consistent parsing.\n",
      "  cache_array = _maybe_cache(arg, format, cache, convert_listlike)\n",
      "C:\\Users\\sachi\\anaconda3\\lib\\site-packages\\pandas\\core\\tools\\datetimes.py:1047: UserWarning: Parsing '23-11-2013' in DD/MM/YYYY format. Provide format or specify infer_datetime_format=True for consistent parsing.\n",
      "  cache_array = _maybe_cache(arg, format, cache, convert_listlike)\n",
      "C:\\Users\\sachi\\anaconda3\\lib\\site-packages\\pandas\\core\\tools\\datetimes.py:1047: UserWarning: Parsing '15-01-2013' in DD/MM/YYYY format. Provide format or specify infer_datetime_format=True for consistent parsing.\n",
      "  cache_array = _maybe_cache(arg, format, cache, convert_listlike)\n",
      "C:\\Users\\sachi\\anaconda3\\lib\\site-packages\\pandas\\core\\tools\\datetimes.py:1047: UserWarning: Parsing '25-01-2013' in DD/MM/YYYY format. Provide format or specify infer_datetime_format=True for consistent parsing.\n",
      "  cache_array = _maybe_cache(arg, format, cache, convert_listlike)\n",
      "C:\\Users\\sachi\\anaconda3\\lib\\site-packages\\pandas\\core\\tools\\datetimes.py:1047: UserWarning: Parsing '21-08-2013' in DD/MM/YYYY format. Provide format or specify infer_datetime_format=True for consistent parsing.\n",
      "  cache_array = _maybe_cache(arg, format, cache, convert_listlike)\n",
      "C:\\Users\\sachi\\anaconda3\\lib\\site-packages\\pandas\\core\\tools\\datetimes.py:1047: UserWarning: Parsing '14-02-2013' in DD/MM/YYYY format. Provide format or specify infer_datetime_format=True for consistent parsing.\n",
      "  cache_array = _maybe_cache(arg, format, cache, convert_listlike)\n",
      "C:\\Users\\sachi\\anaconda3\\lib\\site-packages\\pandas\\core\\tools\\datetimes.py:1047: UserWarning: Parsing '23-10-2013' in DD/MM/YYYY format. Provide format or specify infer_datetime_format=True for consistent parsing.\n",
      "  cache_array = _maybe_cache(arg, format, cache, convert_listlike)\n",
      "C:\\Users\\sachi\\anaconda3\\lib\\site-packages\\pandas\\core\\tools\\datetimes.py:1047: UserWarning: Parsing '16-03-2013' in DD/MM/YYYY format. Provide format or specify infer_datetime_format=True for consistent parsing.\n",
      "  cache_array = _maybe_cache(arg, format, cache, convert_listlike)\n",
      "C:\\Users\\sachi\\anaconda3\\lib\\site-packages\\pandas\\core\\tools\\datetimes.py:1047: UserWarning: Parsing '23-09-2013' in DD/MM/YYYY format. Provide format or specify infer_datetime_format=True for consistent parsing.\n",
      "  cache_array = _maybe_cache(arg, format, cache, convert_listlike)\n",
      "C:\\Users\\sachi\\anaconda3\\lib\\site-packages\\pandas\\core\\tools\\datetimes.py:1047: UserWarning: Parsing '19-11-2013' in DD/MM/YYYY format. Provide format or specify infer_datetime_format=True for consistent parsing.\n",
      "  cache_array = _maybe_cache(arg, format, cache, convert_listlike)\n",
      "C:\\Users\\sachi\\anaconda3\\lib\\site-packages\\pandas\\core\\tools\\datetimes.py:1047: UserWarning: Parsing '16-06-2013' in DD/MM/YYYY format. Provide format or specify infer_datetime_format=True for consistent parsing.\n",
      "  cache_array = _maybe_cache(arg, format, cache, convert_listlike)\n",
      "C:\\Users\\sachi\\anaconda3\\lib\\site-packages\\pandas\\core\\tools\\datetimes.py:1047: UserWarning: Parsing '20-05-2013' in DD/MM/YYYY format. Provide format or specify infer_datetime_format=True for consistent parsing.\n",
      "  cache_array = _maybe_cache(arg, format, cache, convert_listlike)\n",
      "C:\\Users\\sachi\\anaconda3\\lib\\site-packages\\pandas\\core\\tools\\datetimes.py:1047: UserWarning: Parsing '24-01-2013' in DD/MM/YYYY format. Provide format or specify infer_datetime_format=True for consistent parsing.\n",
      "  cache_array = _maybe_cache(arg, format, cache, convert_listlike)\n",
      "C:\\Users\\sachi\\anaconda3\\lib\\site-packages\\pandas\\core\\tools\\datetimes.py:1047: UserWarning: Parsing '27-06-2013' in DD/MM/YYYY format. Provide format or specify infer_datetime_format=True for consistent parsing.\n",
      "  cache_array = _maybe_cache(arg, format, cache, convert_listlike)\n",
      "C:\\Users\\sachi\\anaconda3\\lib\\site-packages\\pandas\\core\\tools\\datetimes.py:1047: UserWarning: Parsing '16-11-2013' in DD/MM/YYYY format. Provide format or specify infer_datetime_format=True for consistent parsing.\n",
      "  cache_array = _maybe_cache(arg, format, cache, convert_listlike)\n",
      "C:\\Users\\sachi\\anaconda3\\lib\\site-packages\\pandas\\core\\tools\\datetimes.py:1047: UserWarning: Parsing '16-05-2013' in DD/MM/YYYY format. Provide format or specify infer_datetime_format=True for consistent parsing.\n",
      "  cache_array = _maybe_cache(arg, format, cache, convert_listlike)\n",
      "C:\\Users\\sachi\\anaconda3\\lib\\site-packages\\pandas\\core\\tools\\datetimes.py:1047: UserWarning: Parsing '17-02-2013' in DD/MM/YYYY format. Provide format or specify infer_datetime_format=True for consistent parsing.\n",
      "  cache_array = _maybe_cache(arg, format, cache, convert_listlike)\n",
      "C:\\Users\\sachi\\anaconda3\\lib\\site-packages\\pandas\\core\\tools\\datetimes.py:1047: UserWarning: Parsing '27-05-2013' in DD/MM/YYYY format. Provide format or specify infer_datetime_format=True for consistent parsing.\n",
      "  cache_array = _maybe_cache(arg, format, cache, convert_listlike)\n",
      "C:\\Users\\sachi\\anaconda3\\lib\\site-packages\\pandas\\core\\tools\\datetimes.py:1047: UserWarning: Parsing '17-08-2013' in DD/MM/YYYY format. Provide format or specify infer_datetime_format=True for consistent parsing.\n",
      "  cache_array = _maybe_cache(arg, format, cache, convert_listlike)\n",
      "C:\\Users\\sachi\\anaconda3\\lib\\site-packages\\pandas\\core\\tools\\datetimes.py:1047: UserWarning: Parsing '19-05-2013' in DD/MM/YYYY format. Provide format or specify infer_datetime_format=True for consistent parsing.\n",
      "  cache_array = _maybe_cache(arg, format, cache, convert_listlike)\n",
      "C:\\Users\\sachi\\anaconda3\\lib\\site-packages\\pandas\\core\\tools\\datetimes.py:1047: UserWarning: Parsing '20-07-2013' in DD/MM/YYYY format. Provide format or specify infer_datetime_format=True for consistent parsing.\n",
      "  cache_array = _maybe_cache(arg, format, cache, convert_listlike)\n",
      "C:\\Users\\sachi\\anaconda3\\lib\\site-packages\\pandas\\core\\tools\\datetimes.py:1047: UserWarning: Parsing '23-01-2013' in DD/MM/YYYY format. Provide format or specify infer_datetime_format=True for consistent parsing.\n",
      "  cache_array = _maybe_cache(arg, format, cache, convert_listlike)\n",
      "C:\\Users\\sachi\\anaconda3\\lib\\site-packages\\pandas\\core\\tools\\datetimes.py:1047: UserWarning: Parsing '19-03-2013' in DD/MM/YYYY format. Provide format or specify infer_datetime_format=True for consistent parsing.\n",
      "  cache_array = _maybe_cache(arg, format, cache, convert_listlike)\n",
      "C:\\Users\\sachi\\anaconda3\\lib\\site-packages\\pandas\\core\\tools\\datetimes.py:1047: UserWarning: Parsing '17-11-2013' in DD/MM/YYYY format. Provide format or specify infer_datetime_format=True for consistent parsing.\n",
      "  cache_array = _maybe_cache(arg, format, cache, convert_listlike)\n",
      "C:\\Users\\sachi\\anaconda3\\lib\\site-packages\\pandas\\core\\tools\\datetimes.py:1047: UserWarning: Parsing '20-12-2013' in DD/MM/YYYY format. Provide format or specify infer_datetime_format=True for consistent parsing.\n",
      "  cache_array = _maybe_cache(arg, format, cache, convert_listlike)\n",
      "C:\\Users\\sachi\\anaconda3\\lib\\site-packages\\pandas\\core\\tools\\datetimes.py:1047: UserWarning: Parsing '30-06-2013' in DD/MM/YYYY format. Provide format or specify infer_datetime_format=True for consistent parsing.\n",
      "  cache_array = _maybe_cache(arg, format, cache, convert_listlike)\n",
      "C:\\Users\\sachi\\anaconda3\\lib\\site-packages\\pandas\\core\\tools\\datetimes.py:1047: UserWarning: Parsing '29-10-2013' in DD/MM/YYYY format. Provide format or specify infer_datetime_format=True for consistent parsing.\n",
      "  cache_array = _maybe_cache(arg, format, cache, convert_listlike)\n",
      "C:\\Users\\sachi\\anaconda3\\lib\\site-packages\\pandas\\core\\tools\\datetimes.py:1047: UserWarning: Parsing '28-07-2013' in DD/MM/YYYY format. Provide format or specify infer_datetime_format=True for consistent parsing.\n",
      "  cache_array = _maybe_cache(arg, format, cache, convert_listlike)\n",
      "C:\\Users\\sachi\\anaconda3\\lib\\site-packages\\pandas\\core\\tools\\datetimes.py:1047: UserWarning: Parsing '14-05-2013' in DD/MM/YYYY format. Provide format or specify infer_datetime_format=True for consistent parsing.\n",
      "  cache_array = _maybe_cache(arg, format, cache, convert_listlike)\n",
      "C:\\Users\\sachi\\anaconda3\\lib\\site-packages\\pandas\\core\\tools\\datetimes.py:1047: UserWarning: Parsing '21-01-2013' in DD/MM/YYYY format. Provide format or specify infer_datetime_format=True for consistent parsing.\n",
      "  cache_array = _maybe_cache(arg, format, cache, convert_listlike)\n",
      "C:\\Users\\sachi\\anaconda3\\lib\\site-packages\\pandas\\core\\tools\\datetimes.py:1047: UserWarning: Parsing '14-11-2013' in DD/MM/YYYY format. Provide format or specify infer_datetime_format=True for consistent parsing.\n",
      "  cache_array = _maybe_cache(arg, format, cache, convert_listlike)\n",
      "C:\\Users\\sachi\\anaconda3\\lib\\site-packages\\pandas\\core\\tools\\datetimes.py:1047: UserWarning: Parsing '16-02-2013' in DD/MM/YYYY format. Provide format or specify infer_datetime_format=True for consistent parsing.\n",
      "  cache_array = _maybe_cache(arg, format, cache, convert_listlike)\n",
      "C:\\Users\\sachi\\anaconda3\\lib\\site-packages\\pandas\\core\\tools\\datetimes.py:1047: UserWarning: Parsing '24-05-2013' in DD/MM/YYYY format. Provide format or specify infer_datetime_format=True for consistent parsing.\n",
      "  cache_array = _maybe_cache(arg, format, cache, convert_listlike)\n",
      "C:\\Users\\sachi\\anaconda3\\lib\\site-packages\\pandas\\core\\tools\\datetimes.py:1047: UserWarning: Parsing '23-03-2013' in DD/MM/YYYY format. Provide format or specify infer_datetime_format=True for consistent parsing.\n",
      "  cache_array = _maybe_cache(arg, format, cache, convert_listlike)\n",
      "C:\\Users\\sachi\\anaconda3\\lib\\site-packages\\pandas\\core\\tools\\datetimes.py:1047: UserWarning: Parsing '29-12-2013' in DD/MM/YYYY format. Provide format or specify infer_datetime_format=True for consistent parsing.\n",
      "  cache_array = _maybe_cache(arg, format, cache, convert_listlike)\n",
      "C:\\Users\\sachi\\anaconda3\\lib\\site-packages\\pandas\\core\\tools\\datetimes.py:1047: UserWarning: Parsing '26-01-2013' in DD/MM/YYYY format. Provide format or specify infer_datetime_format=True for consistent parsing.\n",
      "  cache_array = _maybe_cache(arg, format, cache, convert_listlike)\n",
      "C:\\Users\\sachi\\anaconda3\\lib\\site-packages\\pandas\\core\\tools\\datetimes.py:1047: UserWarning: Parsing '28-09-2013' in DD/MM/YYYY format. Provide format or specify infer_datetime_format=True for consistent parsing.\n",
      "  cache_array = _maybe_cache(arg, format, cache, convert_listlike)\n",
      "C:\\Users\\sachi\\anaconda3\\lib\\site-packages\\pandas\\core\\tools\\datetimes.py:1047: UserWarning: Parsing '25-03-2013' in DD/MM/YYYY format. Provide format or specify infer_datetime_format=True for consistent parsing.\n",
      "  cache_array = _maybe_cache(arg, format, cache, convert_listlike)\n",
      "C:\\Users\\sachi\\anaconda3\\lib\\site-packages\\pandas\\core\\tools\\datetimes.py:1047: UserWarning: Parsing '27-03-2013' in DD/MM/YYYY format. Provide format or specify infer_datetime_format=True for consistent parsing.\n",
      "  cache_array = _maybe_cache(arg, format, cache, convert_listlike)\n",
      "C:\\Users\\sachi\\anaconda3\\lib\\site-packages\\pandas\\core\\tools\\datetimes.py:1047: UserWarning: Parsing '21-11-2013' in DD/MM/YYYY format. Provide format or specify infer_datetime_format=True for consistent parsing.\n",
      "  cache_array = _maybe_cache(arg, format, cache, convert_listlike)\n",
      "C:\\Users\\sachi\\anaconda3\\lib\\site-packages\\pandas\\core\\tools\\datetimes.py:1047: UserWarning: Parsing '13-01-2013' in DD/MM/YYYY format. Provide format or specify infer_datetime_format=True for consistent parsing.\n",
      "  cache_array = _maybe_cache(arg, format, cache, convert_listlike)\n",
      "C:\\Users\\sachi\\anaconda3\\lib\\site-packages\\pandas\\core\\tools\\datetimes.py:1047: UserWarning: Parsing '13-11-2013' in DD/MM/YYYY format. Provide format or specify infer_datetime_format=True for consistent parsing.\n",
      "  cache_array = _maybe_cache(arg, format, cache, convert_listlike)\n",
      "C:\\Users\\sachi\\anaconda3\\lib\\site-packages\\pandas\\core\\tools\\datetimes.py:1047: UserWarning: Parsing '28-03-2013' in DD/MM/YYYY format. Provide format or specify infer_datetime_format=True for consistent parsing.\n",
      "  cache_array = _maybe_cache(arg, format, cache, convert_listlike)\n",
      "C:\\Users\\sachi\\anaconda3\\lib\\site-packages\\pandas\\core\\tools\\datetimes.py:1047: UserWarning: Parsing '25-04-2013' in DD/MM/YYYY format. Provide format or specify infer_datetime_format=True for consistent parsing.\n",
      "  cache_array = _maybe_cache(arg, format, cache, convert_listlike)\n",
      "C:\\Users\\sachi\\anaconda3\\lib\\site-packages\\pandas\\core\\tools\\datetimes.py:1047: UserWarning: Parsing '27-04-2013' in DD/MM/YYYY format. Provide format or specify infer_datetime_format=True for consistent parsing.\n",
      "  cache_array = _maybe_cache(arg, format, cache, convert_listlike)\n",
      "C:\\Users\\sachi\\anaconda3\\lib\\site-packages\\pandas\\core\\tools\\datetimes.py:1047: UserWarning: Parsing '22-10-2013' in DD/MM/YYYY format. Provide format or specify infer_datetime_format=True for consistent parsing.\n",
      "  cache_array = _maybe_cache(arg, format, cache, convert_listlike)\n",
      "C:\\Users\\sachi\\anaconda3\\lib\\site-packages\\pandas\\core\\tools\\datetimes.py:1047: UserWarning: Parsing '22-05-2013' in DD/MM/YYYY format. Provide format or specify infer_datetime_format=True for consistent parsing.\n",
      "  cache_array = _maybe_cache(arg, format, cache, convert_listlike)\n",
      "C:\\Users\\sachi\\anaconda3\\lib\\site-packages\\pandas\\core\\tools\\datetimes.py:1047: UserWarning: Parsing '19-12-2013' in DD/MM/YYYY format. Provide format or specify infer_datetime_format=True for consistent parsing.\n",
      "  cache_array = _maybe_cache(arg, format, cache, convert_listlike)\n",
      "C:\\Users\\sachi\\anaconda3\\lib\\site-packages\\pandas\\core\\tools\\datetimes.py:1047: UserWarning: Parsing '26-11-2013' in DD/MM/YYYY format. Provide format or specify infer_datetime_format=True for consistent parsing.\n",
      "  cache_array = _maybe_cache(arg, format, cache, convert_listlike)\n",
      "C:\\Users\\sachi\\anaconda3\\lib\\site-packages\\pandas\\core\\tools\\datetimes.py:1047: UserWarning: Parsing '22-09-2013' in DD/MM/YYYY format. Provide format or specify infer_datetime_format=True for consistent parsing.\n",
      "  cache_array = _maybe_cache(arg, format, cache, convert_listlike)\n",
      "C:\\Users\\sachi\\anaconda3\\lib\\site-packages\\pandas\\core\\tools\\datetimes.py:1047: UserWarning: Parsing '30-05-2013' in DD/MM/YYYY format. Provide format or specify infer_datetime_format=True for consistent parsing.\n",
      "  cache_array = _maybe_cache(arg, format, cache, convert_listlike)\n",
      "C:\\Users\\sachi\\anaconda3\\lib\\site-packages\\pandas\\core\\tools\\datetimes.py:1047: UserWarning: Parsing '20-09-2013' in DD/MM/YYYY format. Provide format or specify infer_datetime_format=True for consistent parsing.\n",
      "  cache_array = _maybe_cache(arg, format, cache, convert_listlike)\n",
      "C:\\Users\\sachi\\anaconda3\\lib\\site-packages\\pandas\\core\\tools\\datetimes.py:1047: UserWarning: Parsing '19-09-2013' in DD/MM/YYYY format. Provide format or specify infer_datetime_format=True for consistent parsing.\n",
      "  cache_array = _maybe_cache(arg, format, cache, convert_listlike)\n",
      "C:\\Users\\sachi\\anaconda3\\lib\\site-packages\\pandas\\core\\tools\\datetimes.py:1047: UserWarning: Parsing '19-01-2013' in DD/MM/YYYY format. Provide format or specify infer_datetime_format=True for consistent parsing.\n",
      "  cache_array = _maybe_cache(arg, format, cache, convert_listlike)\n",
      "C:\\Users\\sachi\\anaconda3\\lib\\site-packages\\pandas\\core\\tools\\datetimes.py:1047: UserWarning: Parsing '24-08-2013' in DD/MM/YYYY format. Provide format or specify infer_datetime_format=True for consistent parsing.\n",
      "  cache_array = _maybe_cache(arg, format, cache, convert_listlike)\n",
      "C:\\Users\\sachi\\anaconda3\\lib\\site-packages\\pandas\\core\\tools\\datetimes.py:1047: UserWarning: Parsing '13-05-2013' in DD/MM/YYYY format. Provide format or specify infer_datetime_format=True for consistent parsing.\n",
      "  cache_array = _maybe_cache(arg, format, cache, convert_listlike)\n",
      "C:\\Users\\sachi\\anaconda3\\lib\\site-packages\\pandas\\core\\tools\\datetimes.py:1047: UserWarning: Parsing '13-12-2013' in DD/MM/YYYY format. Provide format or specify infer_datetime_format=True for consistent parsing.\n",
      "  cache_array = _maybe_cache(arg, format, cache, convert_listlike)\n",
      "C:\\Users\\sachi\\anaconda3\\lib\\site-packages\\pandas\\core\\tools\\datetimes.py:1047: UserWarning: Parsing '21-03-2013' in DD/MM/YYYY format. Provide format or specify infer_datetime_format=True for consistent parsing.\n",
      "  cache_array = _maybe_cache(arg, format, cache, convert_listlike)\n",
      "C:\\Users\\sachi\\anaconda3\\lib\\site-packages\\pandas\\core\\tools\\datetimes.py:1047: UserWarning: Parsing '28-05-2013' in DD/MM/YYYY format. Provide format or specify infer_datetime_format=True for consistent parsing.\n",
      "  cache_array = _maybe_cache(arg, format, cache, convert_listlike)\n",
      "C:\\Users\\sachi\\anaconda3\\lib\\site-packages\\pandas\\core\\tools\\datetimes.py:1047: UserWarning: Parsing '13-07-2013' in DD/MM/YYYY format. Provide format or specify infer_datetime_format=True for consistent parsing.\n",
      "  cache_array = _maybe_cache(arg, format, cache, convert_listlike)\n",
      "C:\\Users\\sachi\\anaconda3\\lib\\site-packages\\pandas\\core\\tools\\datetimes.py:1047: UserWarning: Parsing '19-10-2013' in DD/MM/YYYY format. Provide format or specify infer_datetime_format=True for consistent parsing.\n",
      "  cache_array = _maybe_cache(arg, format, cache, convert_listlike)\n",
      "C:\\Users\\sachi\\anaconda3\\lib\\site-packages\\pandas\\core\\tools\\datetimes.py:1047: UserWarning: Parsing '15-09-2013' in DD/MM/YYYY format. Provide format or specify infer_datetime_format=True for consistent parsing.\n",
      "  cache_array = _maybe_cache(arg, format, cache, convert_listlike)\n",
      "C:\\Users\\sachi\\anaconda3\\lib\\site-packages\\pandas\\core\\tools\\datetimes.py:1047: UserWarning: Parsing '21-12-2013' in DD/MM/YYYY format. Provide format or specify infer_datetime_format=True for consistent parsing.\n",
      "  cache_array = _maybe_cache(arg, format, cache, convert_listlike)\n",
      "C:\\Users\\sachi\\anaconda3\\lib\\site-packages\\pandas\\core\\tools\\datetimes.py:1047: UserWarning: Parsing '26-10-2013' in DD/MM/YYYY format. Provide format or specify infer_datetime_format=True for consistent parsing.\n",
      "  cache_array = _maybe_cache(arg, format, cache, convert_listlike)\n",
      "C:\\Users\\sachi\\anaconda3\\lib\\site-packages\\pandas\\core\\tools\\datetimes.py:1047: UserWarning: Parsing '23-08-2013' in DD/MM/YYYY format. Provide format or specify infer_datetime_format=True for consistent parsing.\n",
      "  cache_array = _maybe_cache(arg, format, cache, convert_listlike)\n",
      "C:\\Users\\sachi\\anaconda3\\lib\\site-packages\\pandas\\core\\tools\\datetimes.py:1047: UserWarning: Parsing '20-10-2013' in DD/MM/YYYY format. Provide format or specify infer_datetime_format=True for consistent parsing.\n",
      "  cache_array = _maybe_cache(arg, format, cache, convert_listlike)\n",
      "C:\\Users\\sachi\\anaconda3\\lib\\site-packages\\pandas\\core\\tools\\datetimes.py:1047: UserWarning: Parsing '14-08-2013' in DD/MM/YYYY format. Provide format or specify infer_datetime_format=True for consistent parsing.\n",
      "  cache_array = _maybe_cache(arg, format, cache, convert_listlike)\n",
      "C:\\Users\\sachi\\anaconda3\\lib\\site-packages\\pandas\\core\\tools\\datetimes.py:1047: UserWarning: Parsing '30-07-2013' in DD/MM/YYYY format. Provide format or specify infer_datetime_format=True for consistent parsing.\n",
      "  cache_array = _maybe_cache(arg, format, cache, convert_listlike)\n",
      "C:\\Users\\sachi\\anaconda3\\lib\\site-packages\\pandas\\core\\tools\\datetimes.py:1047: UserWarning: Parsing '17-10-2013' in DD/MM/YYYY format. Provide format or specify infer_datetime_format=True for consistent parsing.\n",
      "  cache_array = _maybe_cache(arg, format, cache, convert_listlike)\n",
      "C:\\Users\\sachi\\anaconda3\\lib\\site-packages\\pandas\\core\\tools\\datetimes.py:1047: UserWarning: Parsing '17-04-2013' in DD/MM/YYYY format. Provide format or specify infer_datetime_format=True for consistent parsing.\n",
      "  cache_array = _maybe_cache(arg, format, cache, convert_listlike)\n",
      "C:\\Users\\sachi\\anaconda3\\lib\\site-packages\\pandas\\core\\tools\\datetimes.py:1047: UserWarning: Parsing '23-02-2013' in DD/MM/YYYY format. Provide format or specify infer_datetime_format=True for consistent parsing.\n",
      "  cache_array = _maybe_cache(arg, format, cache, convert_listlike)\n",
      "C:\\Users\\sachi\\anaconda3\\lib\\site-packages\\pandas\\core\\tools\\datetimes.py:1047: UserWarning: Parsing '15-10-2013' in DD/MM/YYYY format. Provide format or specify infer_datetime_format=True for consistent parsing.\n",
      "  cache_array = _maybe_cache(arg, format, cache, convert_listlike)\n",
      "C:\\Users\\sachi\\anaconda3\\lib\\site-packages\\pandas\\core\\tools\\datetimes.py:1047: UserWarning: Parsing '23-04-2013' in DD/MM/YYYY format. Provide format or specify infer_datetime_format=True for consistent parsing.\n",
      "  cache_array = _maybe_cache(arg, format, cache, convert_listlike)\n",
      "C:\\Users\\sachi\\anaconda3\\lib\\site-packages\\pandas\\core\\tools\\datetimes.py:1047: UserWarning: Parsing '27-10-2013' in DD/MM/YYYY format. Provide format or specify infer_datetime_format=True for consistent parsing.\n",
      "  cache_array = _maybe_cache(arg, format, cache, convert_listlike)\n",
      "C:\\Users\\sachi\\anaconda3\\lib\\site-packages\\pandas\\core\\tools\\datetimes.py:1047: UserWarning: Parsing '30-11-2013' in DD/MM/YYYY format. Provide format or specify infer_datetime_format=True for consistent parsing.\n",
      "  cache_array = _maybe_cache(arg, format, cache, convert_listlike)\n",
      "C:\\Users\\sachi\\anaconda3\\lib\\site-packages\\pandas\\core\\tools\\datetimes.py:1047: UserWarning: Parsing '25-08-2013' in DD/MM/YYYY format. Provide format or specify infer_datetime_format=True for consistent parsing.\n",
      "  cache_array = _maybe_cache(arg, format, cache, convert_listlike)\n",
      "C:\\Users\\sachi\\anaconda3\\lib\\site-packages\\pandas\\core\\tools\\datetimes.py:1047: UserWarning: Parsing '28-10-2013' in DD/MM/YYYY format. Provide format or specify infer_datetime_format=True for consistent parsing.\n",
      "  cache_array = _maybe_cache(arg, format, cache, convert_listlike)\n",
      "C:\\Users\\sachi\\anaconda3\\lib\\site-packages\\pandas\\core\\tools\\datetimes.py:1047: UserWarning: Parsing '29-07-2013' in DD/MM/YYYY format. Provide format or specify infer_datetime_format=True for consistent parsing.\n",
      "  cache_array = _maybe_cache(arg, format, cache, convert_listlike)\n",
      "C:\\Users\\sachi\\anaconda3\\lib\\site-packages\\pandas\\core\\tools\\datetimes.py:1047: UserWarning: Parsing '20-02-2013' in DD/MM/YYYY format. Provide format or specify infer_datetime_format=True for consistent parsing.\n",
      "  cache_array = _maybe_cache(arg, format, cache, convert_listlike)\n",
      "C:\\Users\\sachi\\anaconda3\\lib\\site-packages\\pandas\\core\\tools\\datetimes.py:1047: UserWarning: Parsing '15-07-2013' in DD/MM/YYYY format. Provide format or specify infer_datetime_format=True for consistent parsing.\n",
      "  cache_array = _maybe_cache(arg, format, cache, convert_listlike)\n",
      "C:\\Users\\sachi\\anaconda3\\lib\\site-packages\\pandas\\core\\tools\\datetimes.py:1047: UserWarning: Parsing '17-07-2013' in DD/MM/YYYY format. Provide format or specify infer_datetime_format=True for consistent parsing.\n",
      "  cache_array = _maybe_cache(arg, format, cache, convert_listlike)\n",
      "C:\\Users\\sachi\\anaconda3\\lib\\site-packages\\pandas\\core\\tools\\datetimes.py:1047: UserWarning: Parsing '15-11-2013' in DD/MM/YYYY format. Provide format or specify infer_datetime_format=True for consistent parsing.\n",
      "  cache_array = _maybe_cache(arg, format, cache, convert_listlike)\n",
      "C:\\Users\\sachi\\anaconda3\\lib\\site-packages\\pandas\\core\\tools\\datetimes.py:1047: UserWarning: Parsing '18-11-2013' in DD/MM/YYYY format. Provide format or specify infer_datetime_format=True for consistent parsing.\n",
      "  cache_array = _maybe_cache(arg, format, cache, convert_listlike)\n",
      "C:\\Users\\sachi\\anaconda3\\lib\\site-packages\\pandas\\core\\tools\\datetimes.py:1047: UserWarning: Parsing '24-03-2013' in DD/MM/YYYY format. Provide format or specify infer_datetime_format=True for consistent parsing.\n",
      "  cache_array = _maybe_cache(arg, format, cache, convert_listlike)\n",
      "C:\\Users\\sachi\\anaconda3\\lib\\site-packages\\pandas\\core\\tools\\datetimes.py:1047: UserWarning: Parsing '24-11-2013' in DD/MM/YYYY format. Provide format or specify infer_datetime_format=True for consistent parsing.\n",
      "  cache_array = _maybe_cache(arg, format, cache, convert_listlike)\n",
      "C:\\Users\\sachi\\anaconda3\\lib\\site-packages\\pandas\\core\\tools\\datetimes.py:1047: UserWarning: Parsing '18-02-2013' in DD/MM/YYYY format. Provide format or specify infer_datetime_format=True for consistent parsing.\n",
      "  cache_array = _maybe_cache(arg, format, cache, convert_listlike)\n",
      "C:\\Users\\sachi\\anaconda3\\lib\\site-packages\\pandas\\core\\tools\\datetimes.py:1047: UserWarning: Parsing '17-09-2013' in DD/MM/YYYY format. Provide format or specify infer_datetime_format=True for consistent parsing.\n",
      "  cache_array = _maybe_cache(arg, format, cache, convert_listlike)\n",
      "C:\\Users\\sachi\\anaconda3\\lib\\site-packages\\pandas\\core\\tools\\datetimes.py:1047: UserWarning: Parsing '23-06-2013' in DD/MM/YYYY format. Provide format or specify infer_datetime_format=True for consistent parsing.\n",
      "  cache_array = _maybe_cache(arg, format, cache, convert_listlike)\n",
      "C:\\Users\\sachi\\anaconda3\\lib\\site-packages\\pandas\\core\\tools\\datetimes.py:1047: UserWarning: Parsing '17-05-2013' in DD/MM/YYYY format. Provide format or specify infer_datetime_format=True for consistent parsing.\n",
      "  cache_array = _maybe_cache(arg, format, cache, convert_listlike)\n",
      "C:\\Users\\sachi\\anaconda3\\lib\\site-packages\\pandas\\core\\tools\\datetimes.py:1047: UserWarning: Parsing '27-01-2013' in DD/MM/YYYY format. Provide format or specify infer_datetime_format=True for consistent parsing.\n",
      "  cache_array = _maybe_cache(arg, format, cache, convert_listlike)\n",
      "C:\\Users\\sachi\\anaconda3\\lib\\site-packages\\pandas\\core\\tools\\datetimes.py:1047: UserWarning: Parsing '29-04-2013' in DD/MM/YYYY format. Provide format or specify infer_datetime_format=True for consistent parsing.\n",
      "  cache_array = _maybe_cache(arg, format, cache, convert_listlike)\n",
      "C:\\Users\\sachi\\anaconda3\\lib\\site-packages\\pandas\\core\\tools\\datetimes.py:1047: UserWarning: Parsing '19-08-2013' in DD/MM/YYYY format. Provide format or specify infer_datetime_format=True for consistent parsing.\n",
      "  cache_array = _maybe_cache(arg, format, cache, convert_listlike)\n",
      "C:\\Users\\sachi\\anaconda3\\lib\\site-packages\\pandas\\core\\tools\\datetimes.py:1047: UserWarning: Parsing '14-09-2013' in DD/MM/YYYY format. Provide format or specify infer_datetime_format=True for consistent parsing.\n",
      "  cache_array = _maybe_cache(arg, format, cache, convert_listlike)\n",
      "C:\\Users\\sachi\\anaconda3\\lib\\site-packages\\pandas\\core\\tools\\datetimes.py:1047: UserWarning: Parsing '20-11-2013' in DD/MM/YYYY format. Provide format or specify infer_datetime_format=True for consistent parsing.\n",
      "  cache_array = _maybe_cache(arg, format, cache, convert_listlike)\n",
      "C:\\Users\\sachi\\anaconda3\\lib\\site-packages\\pandas\\core\\tools\\datetimes.py:1047: UserWarning: Parsing '15-08-2013' in DD/MM/YYYY format. Provide format or specify infer_datetime_format=True for consistent parsing.\n",
      "  cache_array = _maybe_cache(arg, format, cache, convert_listlike)\n",
      "C:\\Users\\sachi\\anaconda3\\lib\\site-packages\\pandas\\core\\tools\\datetimes.py:1047: UserWarning: Parsing '31-10-2013' in DD/MM/YYYY format. Provide format or specify infer_datetime_format=True for consistent parsing.\n",
      "  cache_array = _maybe_cache(arg, format, cache, convert_listlike)\n",
      "C:\\Users\\sachi\\anaconda3\\lib\\site-packages\\pandas\\core\\tools\\datetimes.py:1047: UserWarning: Parsing '22-06-2013' in DD/MM/YYYY format. Provide format or specify infer_datetime_format=True for consistent parsing.\n",
      "  cache_array = _maybe_cache(arg, format, cache, convert_listlike)\n",
      "C:\\Users\\sachi\\anaconda3\\lib\\site-packages\\pandas\\core\\tools\\datetimes.py:1047: UserWarning: Parsing '31-03-2013' in DD/MM/YYYY format. Provide format or specify infer_datetime_format=True for consistent parsing.\n",
      "  cache_array = _maybe_cache(arg, format, cache, convert_listlike)\n",
      "C:\\Users\\sachi\\anaconda3\\lib\\site-packages\\pandas\\core\\tools\\datetimes.py:1047: UserWarning: Parsing '14-04-2013' in DD/MM/YYYY format. Provide format or specify infer_datetime_format=True for consistent parsing.\n",
      "  cache_array = _maybe_cache(arg, format, cache, convert_listlike)\n",
      "C:\\Users\\sachi\\anaconda3\\lib\\site-packages\\pandas\\core\\tools\\datetimes.py:1047: UserWarning: Parsing '21-05-2013' in DD/MM/YYYY format. Provide format or specify infer_datetime_format=True for consistent parsing.\n",
      "  cache_array = _maybe_cache(arg, format, cache, convert_listlike)\n",
      "C:\\Users\\sachi\\anaconda3\\lib\\site-packages\\pandas\\core\\tools\\datetimes.py:1047: UserWarning: Parsing '17-03-2013' in DD/MM/YYYY format. Provide format or specify infer_datetime_format=True for consistent parsing.\n",
      "  cache_array = _maybe_cache(arg, format, cache, convert_listlike)\n",
      "C:\\Users\\sachi\\anaconda3\\lib\\site-packages\\pandas\\core\\tools\\datetimes.py:1047: UserWarning: Parsing '15-12-2013' in DD/MM/YYYY format. Provide format or specify infer_datetime_format=True for consistent parsing.\n",
      "  cache_array = _maybe_cache(arg, format, cache, convert_listlike)\n",
      "C:\\Users\\sachi\\anaconda3\\lib\\site-packages\\pandas\\core\\tools\\datetimes.py:1047: UserWarning: Parsing '18-08-2013' in DD/MM/YYYY format. Provide format or specify infer_datetime_format=True for consistent parsing.\n",
      "  cache_array = _maybe_cache(arg, format, cache, convert_listlike)\n",
      "C:\\Users\\sachi\\anaconda3\\lib\\site-packages\\pandas\\core\\tools\\datetimes.py:1047: UserWarning: Parsing '24-02-2013' in DD/MM/YYYY format. Provide format or specify infer_datetime_format=True for consistent parsing.\n",
      "  cache_array = _maybe_cache(arg, format, cache, convert_listlike)\n",
      "C:\\Users\\sachi\\anaconda3\\lib\\site-packages\\pandas\\core\\tools\\datetimes.py:1047: UserWarning: Parsing '28-12-2013' in DD/MM/YYYY format. Provide format or specify infer_datetime_format=True for consistent parsing.\n",
      "  cache_array = _maybe_cache(arg, format, cache, convert_listlike)\n",
      "C:\\Users\\sachi\\anaconda3\\lib\\site-packages\\pandas\\core\\tools\\datetimes.py:1047: UserWarning: Parsing '30-12-2013' in DD/MM/YYYY format. Provide format or specify infer_datetime_format=True for consistent parsing.\n",
      "  cache_array = _maybe_cache(arg, format, cache, convert_listlike)\n",
      "C:\\Users\\sachi\\anaconda3\\lib\\site-packages\\pandas\\core\\tools\\datetimes.py:1047: UserWarning: Parsing '22-12-2013' in DD/MM/YYYY format. Provide format or specify infer_datetime_format=True for consistent parsing.\n",
      "  cache_array = _maybe_cache(arg, format, cache, convert_listlike)\n",
      "C:\\Users\\sachi\\anaconda3\\lib\\site-packages\\pandas\\core\\tools\\datetimes.py:1047: UserWarning: Parsing '27-12-2013' in DD/MM/YYYY format. Provide format or specify infer_datetime_format=True for consistent parsing.\n",
      "  cache_array = _maybe_cache(arg, format, cache, convert_listlike)\n",
      "C:\\Users\\sachi\\anaconda3\\lib\\site-packages\\pandas\\core\\tools\\datetimes.py:1047: UserWarning: Parsing '20-01-2013' in DD/MM/YYYY format. Provide format or specify infer_datetime_format=True for consistent parsing.\n",
      "  cache_array = _maybe_cache(arg, format, cache, convert_listlike)\n",
      "C:\\Users\\sachi\\anaconda3\\lib\\site-packages\\pandas\\core\\tools\\datetimes.py:1047: UserWarning: Parsing '25-12-2013' in DD/MM/YYYY format. Provide format or specify infer_datetime_format=True for consistent parsing.\n",
      "  cache_array = _maybe_cache(arg, format, cache, convert_listlike)\n",
      "C:\\Users\\sachi\\anaconda3\\lib\\site-packages\\pandas\\core\\tools\\datetimes.py:1047: UserWarning: Parsing '31-12-2013' in DD/MM/YYYY format. Provide format or specify infer_datetime_format=True for consistent parsing.\n",
      "  cache_array = _maybe_cache(arg, format, cache, convert_listlike)\n"
     ]
    }
   ],
   "source": [
    "# Date and time columns need to be converted to DateTime data type\n",
    "accident_factors[\"Date\"]= pd.to_datetime(accident_factors[\"Date\"])\n",
    "accident_factors[\"Time\"]= pd.to_datetime(accident_factors[\"Time\"]).dt.time"
   ]
  },
  {
   "cell_type": "code",
   "execution_count": 84,
   "id": "f3035a1a",
   "metadata": {},
   "outputs": [
    {
     "name": "stdout",
     "output_type": "stream",
     "text": [
      "<class 'pandas.core.frame.DataFrame'>\n",
      "RangeIndex: 121259 entries, 0 to 121258\n",
      "Data columns (total 27 columns):\n",
      " #   Column                                       Non-Null Count   Dtype         \n",
      "---  ------                                       --------------   -----         \n",
      " 0   Accident_ID                                  121259 non-null  object        \n",
      " 1   Police_Force                                 121259 non-null  int64         \n",
      " 2   Number_of_Vehicles                           121259 non-null  int64         \n",
      " 3   Number_of_Casualties                         121259 non-null  int64         \n",
      " 4   Date                                         121259 non-null  datetime64[ns]\n",
      " 5   Day_of_Week                                  121259 non-null  category      \n",
      " 6   Time                                         121258 non-null  object        \n",
      " 7   Local_Authority_(District)                   121259 non-null  category      \n",
      " 8   Local_Authority_(Highway)                    121259 non-null  object        \n",
      " 9   1st_Road_Class                               121259 non-null  category      \n",
      " 10  1st_Road_Number                              121259 non-null  category      \n",
      " 11  Road_Type                                    121259 non-null  object        \n",
      " 12  Speed_limit                                  121259 non-null  int64         \n",
      " 13  2nd_Road_Class                               121259 non-null  category      \n",
      " 14  2nd_Road_Number                              121259 non-null  category      \n",
      " 15  Pedestrian_Crossing-Human_Control            121259 non-null  object        \n",
      " 16  Pedestrian_Crossing-Physical_Facilities      121259 non-null  object        \n",
      " 17  Light_Conditions                             121259 non-null  object        \n",
      " 18  Weather_Conditions                           121259 non-null  object        \n",
      " 19  Road_Surface_Conditions                      121220 non-null  object        \n",
      " 20  Special_Conditions_at_Site                   121249 non-null  object        \n",
      " 21  Carriageway_Hazards                          121259 non-null  object        \n",
      " 22  Urban_or_Rural_Area                          121259 non-null  category      \n",
      " 23  Did_Police_Officer_Attend_Scene_of_Accident  121259 non-null  object        \n",
      " 24  state                                        121259 non-null  object        \n",
      " 25  postcode                                     121259 non-null  object        \n",
      " 26  country                                      121259 non-null  object        \n",
      "dtypes: category(7), datetime64[ns](1), int64(4), object(15)\n",
      "memory usage: 19.7+ MB\n"
     ]
    }
   ],
   "source": [
    "# For checking the null values\n",
    "accident_factors.info()"
   ]
  },
  {
   "cell_type": "markdown",
   "id": "f1b414ee",
   "metadata": {},
   "source": [
    "There is no null value in any of the columns."
   ]
  },
  {
   "cell_type": "code",
   "execution_count": 85,
   "id": "1c341a7e",
   "metadata": {},
   "outputs": [],
   "source": [
    "# Need to assign correct value for Day_of_Week based on the Date value\n",
    "accident_factors[\"Day_of_Week\"]= accident_factors[\"Date\"].dt.dayofweek\n",
    "\n",
    "days = {0:'Mon',1:'Tues',2:'Wed',3:'Thu',4:'Fri',5:'Sat',6:'Sun'}\n",
    "\n",
    "accident_factors[\"Day_of_Week\"]= accident_factors[\"Day_of_Week\"].apply(lambda x:days[x])"
   ]
  },
  {
   "cell_type": "code",
   "execution_count": 86,
   "id": "64ccbcdd",
   "metadata": {},
   "outputs": [
    {
     "data": {
      "text/html": [
       "<div>\n",
       "<style scoped>\n",
       "    .dataframe tbody tr th:only-of-type {\n",
       "        vertical-align: middle;\n",
       "    }\n",
       "\n",
       "    .dataframe tbody tr th {\n",
       "        vertical-align: top;\n",
       "    }\n",
       "\n",
       "    .dataframe thead th {\n",
       "        text-align: right;\n",
       "    }\n",
       "</style>\n",
       "<table border=\"1\" class=\"dataframe\">\n",
       "  <thead>\n",
       "    <tr style=\"text-align: right;\">\n",
       "      <th></th>\n",
       "      <th>Accident_ID</th>\n",
       "      <th>Police_Force</th>\n",
       "      <th>Number_of_Vehicles</th>\n",
       "      <th>Number_of_Casualties</th>\n",
       "      <th>Date</th>\n",
       "      <th>Day_of_Week</th>\n",
       "      <th>Time</th>\n",
       "      <th>Local_Authority_(District)</th>\n",
       "      <th>Local_Authority_(Highway)</th>\n",
       "      <th>1st_Road_Class</th>\n",
       "      <th>...</th>\n",
       "      <th>Light_Conditions</th>\n",
       "      <th>Weather_Conditions</th>\n",
       "      <th>Road_Surface_Conditions</th>\n",
       "      <th>Special_Conditions_at_Site</th>\n",
       "      <th>Carriageway_Hazards</th>\n",
       "      <th>Urban_or_Rural_Area</th>\n",
       "      <th>Did_Police_Officer_Attend_Scene_of_Accident</th>\n",
       "      <th>state</th>\n",
       "      <th>postcode</th>\n",
       "      <th>country</th>\n",
       "    </tr>\n",
       "  </thead>\n",
       "  <tbody>\n",
       "    <tr>\n",
       "      <th>0</th>\n",
       "      <td>14</td>\n",
       "      <td>13</td>\n",
       "      <td>2</td>\n",
       "      <td>0</td>\n",
       "      <td>2013-06-10</td>\n",
       "      <td>Mon</td>\n",
       "      <td>13:28:00</td>\n",
       "      <td>218</td>\n",
       "      <td>E10000032</td>\n",
       "      <td>4</td>\n",
       "      <td>...</td>\n",
       "      <td>Daylight: Street light present</td>\n",
       "      <td>Snowing without high winds</td>\n",
       "      <td>Dry</td>\n",
       "      <td>None</td>\n",
       "      <td>None</td>\n",
       "      <td>2</td>\n",
       "      <td>Yes</td>\n",
       "      <td>England</td>\n",
       "      <td>HX2 8WH</td>\n",
       "      <td>United Kingdom</td>\n",
       "    </tr>\n",
       "    <tr>\n",
       "      <th>1</th>\n",
       "      <td>17</td>\n",
       "      <td>13</td>\n",
       "      <td>2</td>\n",
       "      <td>0</td>\n",
       "      <td>2013-04-22</td>\n",
       "      <td>Mon</td>\n",
       "      <td>09:30:00</td>\n",
       "      <td>157</td>\n",
       "      <td>E10000034</td>\n",
       "      <td>6</td>\n",
       "      <td>...</td>\n",
       "      <td>Daylight: Street light present</td>\n",
       "      <td>Fine without high winds</td>\n",
       "      <td>Dry</td>\n",
       "      <td>None</td>\n",
       "      <td>None</td>\n",
       "      <td>1</td>\n",
       "      <td>No</td>\n",
       "      <td>England</td>\n",
       "      <td>RM8 1DD</td>\n",
       "      <td>United Kingdom</td>\n",
       "    </tr>\n",
       "    <tr>\n",
       "      <th>2</th>\n",
       "      <td>21</td>\n",
       "      <td>13</td>\n",
       "      <td>2</td>\n",
       "      <td>0</td>\n",
       "      <td>2013-09-27</td>\n",
       "      <td>Fri</td>\n",
       "      <td>19:10:00</td>\n",
       "      <td>155</td>\n",
       "      <td>E09000012</td>\n",
       "      <td>3</td>\n",
       "      <td>...</td>\n",
       "      <td>Daylight: Street light present</td>\n",
       "      <td>Fine without high winds</td>\n",
       "      <td>Wet/Damp</td>\n",
       "      <td>None</td>\n",
       "      <td>None</td>\n",
       "      <td>1</td>\n",
       "      <td>Yes</td>\n",
       "      <td>England</td>\n",
       "      <td>SE23 1NH</td>\n",
       "      <td>United Kingdom</td>\n",
       "    </tr>\n",
       "    <tr>\n",
       "      <th>3</th>\n",
       "      <td>23</td>\n",
       "      <td>13</td>\n",
       "      <td>2</td>\n",
       "      <td>0</td>\n",
       "      <td>2013-03-13</td>\n",
       "      <td>Wed</td>\n",
       "      <td>09:19:00</td>\n",
       "      <td>26</td>\n",
       "      <td>E10000016</td>\n",
       "      <td>4</td>\n",
       "      <td>...</td>\n",
       "      <td>Daylight: Street light present</td>\n",
       "      <td>Fine without high winds</td>\n",
       "      <td>Dry</td>\n",
       "      <td>None</td>\n",
       "      <td>None</td>\n",
       "      <td>1</td>\n",
       "      <td>Yes</td>\n",
       "      <td>England</td>\n",
       "      <td>HU10 7QS</td>\n",
       "      <td>United Kingdom</td>\n",
       "    </tr>\n",
       "    <tr>\n",
       "      <th>4</th>\n",
       "      <td>28</td>\n",
       "      <td>14</td>\n",
       "      <td>2</td>\n",
       "      <td>0</td>\n",
       "      <td>2013-06-13</td>\n",
       "      <td>Thu</td>\n",
       "      <td>14:59:00</td>\n",
       "      <td>6</td>\n",
       "      <td>E08000012</td>\n",
       "      <td>4</td>\n",
       "      <td>...</td>\n",
       "      <td>Daylight: Street light present</td>\n",
       "      <td>Fine without high winds</td>\n",
       "      <td>Dry</td>\n",
       "      <td>None</td>\n",
       "      <td>None</td>\n",
       "      <td>1</td>\n",
       "      <td>Yes</td>\n",
       "      <td>England</td>\n",
       "      <td>BD23 5JL</td>\n",
       "      <td>United Kingdom</td>\n",
       "    </tr>\n",
       "  </tbody>\n",
       "</table>\n",
       "<p>5 rows × 27 columns</p>\n",
       "</div>"
      ],
      "text/plain": [
       "  Accident_ID  Police_Force  Number_of_Vehicles  Number_of_Casualties  \\\n",
       "0          14            13                   2                     0   \n",
       "1          17            13                   2                     0   \n",
       "2          21            13                   2                     0   \n",
       "3          23            13                   2                     0   \n",
       "4          28            14                   2                     0   \n",
       "\n",
       "        Date Day_of_Week      Time Local_Authority_(District)  \\\n",
       "0 2013-06-10         Mon  13:28:00                        218   \n",
       "1 2013-04-22         Mon  09:30:00                        157   \n",
       "2 2013-09-27         Fri  19:10:00                        155   \n",
       "3 2013-03-13         Wed  09:19:00                         26   \n",
       "4 2013-06-13         Thu  14:59:00                          6   \n",
       "\n",
       "  Local_Authority_(Highway) 1st_Road_Class  ...  \\\n",
       "0                 E10000032              4  ...   \n",
       "1                 E10000034              6  ...   \n",
       "2                 E09000012              3  ...   \n",
       "3                 E10000016              4  ...   \n",
       "4                 E08000012              4  ...   \n",
       "\n",
       "                 Light_Conditions          Weather_Conditions  \\\n",
       "0  Daylight: Street light present  Snowing without high winds   \n",
       "1  Daylight: Street light present     Fine without high winds   \n",
       "2  Daylight: Street light present     Fine without high winds   \n",
       "3  Daylight: Street light present     Fine without high winds   \n",
       "4  Daylight: Street light present     Fine without high winds   \n",
       "\n",
       "   Road_Surface_Conditions Special_Conditions_at_Site Carriageway_Hazards  \\\n",
       "0                      Dry                       None                None   \n",
       "1                      Dry                       None                None   \n",
       "2                 Wet/Damp                       None                None   \n",
       "3                      Dry                       None                None   \n",
       "4                      Dry                       None                None   \n",
       "\n",
       "  Urban_or_Rural_Area Did_Police_Officer_Attend_Scene_of_Accident    state  \\\n",
       "0                   2                                         Yes  England   \n",
       "1                   1                                          No  England   \n",
       "2                   1                                         Yes  England   \n",
       "3                   1                                         Yes  England   \n",
       "4                   1                                         Yes  England   \n",
       "\n",
       "   postcode         country  \n",
       "0   HX2 8WH  United Kingdom  \n",
       "1   RM8 1DD  United Kingdom  \n",
       "2  SE23 1NH  United Kingdom  \n",
       "3  HU10 7QS  United Kingdom  \n",
       "4  BD23 5JL  United Kingdom  \n",
       "\n",
       "[5 rows x 27 columns]"
      ]
     },
     "execution_count": 86,
     "metadata": {},
     "output_type": "execute_result"
    }
   ],
   "source": [
    "accident_factors.head()"
   ]
  },
  {
   "cell_type": "code",
   "execution_count": 87,
   "id": "dd06d92c",
   "metadata": {},
   "outputs": [],
   "source": [
    "# Channge the datatype of Local_authority District, Local_autority Highway to object from category\n",
    "accident_factors[\"Local_Authority_(District)\"]= accident_factors[\"Local_Authority_(District)\"].astype(str)\n",
    "accident_factors[\"Local_Authority_(Highway)\"]= accident_factors[\"Local_Authority_(Highway)\"].astype(str)"
   ]
  },
  {
   "cell_type": "code",
   "execution_count": 88,
   "id": "1d18b533",
   "metadata": {},
   "outputs": [
    {
     "data": {
      "text/plain": [
       "Accident_ID                                            object\n",
       "Police_Force                                            int64\n",
       "Number_of_Vehicles                                      int64\n",
       "Number_of_Casualties                                    int64\n",
       "Date                                           datetime64[ns]\n",
       "Day_of_Week                                            object\n",
       "Time                                                   object\n",
       "Local_Authority_(District)                             object\n",
       "Local_Authority_(Highway)                              object\n",
       "1st_Road_Class                                       category\n",
       "1st_Road_Number                                      category\n",
       "Road_Type                                              object\n",
       "Speed_limit                                             int64\n",
       "2nd_Road_Class                                       category\n",
       "2nd_Road_Number                                      category\n",
       "Pedestrian_Crossing-Human_Control                      object\n",
       "Pedestrian_Crossing-Physical_Facilities                object\n",
       "Light_Conditions                                       object\n",
       "Weather_Conditions                                     object\n",
       "Road_Surface_Conditions                                object\n",
       "Special_Conditions_at_Site                             object\n",
       "Carriageway_Hazards                                    object\n",
       "Urban_or_Rural_Area                                  category\n",
       "Did_Police_Officer_Attend_Scene_of_Accident            object\n",
       "state                                                  object\n",
       "postcode                                               object\n",
       "country                                                object\n",
       "dtype: object"
      ]
     },
     "execution_count": 88,
     "metadata": {},
     "output_type": "execute_result"
    }
   ],
   "source": [
    "accident_factors.dtypes"
   ]
  },
  {
   "cell_type": "code",
   "execution_count": 89,
   "id": "e4ad7bf3",
   "metadata": {},
   "outputs": [],
   "source": [
    "# To check the unique values in each categorical column"
   ]
  },
  {
   "cell_type": "code",
   "execution_count": 90,
   "id": "110b7b94",
   "metadata": {},
   "outputs": [
    {
     "data": {
      "text/plain": [
       "array([60, 30, 40, 50, 20, 70], dtype=int64)"
      ]
     },
     "execution_count": 90,
     "metadata": {},
     "output_type": "execute_result"
    }
   ],
   "source": [
    "accident_factors[\"Speed_limit\"].unique()"
   ]
  },
  {
   "cell_type": "markdown",
   "id": "796f34e7",
   "metadata": {},
   "source": [
    "Speed limit column contains 6 unique values. Hence it can be considered as category "
   ]
  },
  {
   "cell_type": "code",
   "execution_count": 91,
   "id": "38ed4465",
   "metadata": {},
   "outputs": [],
   "source": [
    "accident_factors[\"Speed_limit\"]=accident_factors[\"Speed_limit\"].astype('category')"
   ]
  },
  {
   "cell_type": "code",
   "execution_count": 92,
   "id": "025219ff",
   "metadata": {},
   "outputs": [
    {
     "data": {
      "text/plain": [
       "array(['Single carriageway', 'Roundabout', 'Dual carriageway',\n",
       "       'One way street', 'Unknown', 'Slip road'], dtype=object)"
      ]
     },
     "execution_count": 92,
     "metadata": {},
     "output_type": "execute_result"
    }
   ],
   "source": [
    "accident_factors[\"Road_Type\"].unique()"
   ]
  },
  {
   "cell_type": "code",
   "execution_count": 93,
   "id": "d40d5c90",
   "metadata": {},
   "outputs": [
    {
     "data": {
      "text/plain": [
       "[4, 6, 3, 5, 1]\n",
       "Categories (5, int64): [1, 3, 4, 5, 6]"
      ]
     },
     "execution_count": 93,
     "metadata": {},
     "output_type": "execute_result"
    }
   ],
   "source": [
    "accident_factors[\"1st_Road_Class\"].unique()"
   ]
  },
  {
   "cell_type": "code",
   "execution_count": 94,
   "id": "1ccc5e90",
   "metadata": {},
   "outputs": [
    {
     "data": {
      "text/plain": [
       "[6358, 29, 5376, 1252, 1202, ..., 9097, 7816, 4430, 8698, 6496]\n",
       "Length: 3827\n",
       "Categories (3827, int64): [0, 1, 2, 3, ..., 9592, 9687, 9706, 9832]"
      ]
     },
     "execution_count": 94,
     "metadata": {},
     "output_type": "execute_result"
    }
   ],
   "source": [
    "accident_factors[\"1st_Road_Number\"].unique()"
   ]
  },
  {
   "cell_type": "code",
   "execution_count": 95,
   "id": "65716970",
   "metadata": {},
   "outputs": [],
   "source": [
    "# 1st class road number can be converted to object type\n",
    "accident_factors[\"1st_Road_Number\"]=accident_factors[\"1st_Road_Number\"].astype(str)"
   ]
  },
  {
   "cell_type": "code",
   "execution_count": 96,
   "id": "634edb4e",
   "metadata": {},
   "outputs": [
    {
     "data": {
      "text/plain": [
       "[6, -1, 3, 5, 4]\n",
       "Categories (5, int64): [-1, 3, 4, 5, 6]"
      ]
     },
     "execution_count": 96,
     "metadata": {},
     "output_type": "execute_result"
    }
   ],
   "source": [
    "accident_factors[\"2nd_Road_Class\"].unique()"
   ]
  },
  {
   "cell_type": "code",
   "execution_count": 97,
   "id": "17653d9a",
   "metadata": {},
   "outputs": [
    {
     "data": {
      "text/plain": [
       "[0]\n",
       "Categories (1, int64): [0]"
      ]
     },
     "execution_count": 97,
     "metadata": {},
     "output_type": "execute_result"
    }
   ],
   "source": [
    "accident_factors[\"2nd_Road_Number\"].unique()"
   ]
  },
  {
   "cell_type": "code",
   "execution_count": 98,
   "id": "86865099",
   "metadata": {},
   "outputs": [
    {
     "data": {
      "text/plain": [
       "[0, 0, 0, 0, 0, ..., 0, 0, 0, 0, 0]\n",
       "Length: 121259\n",
       "Categories (1, int64): [0]"
      ]
     },
     "execution_count": 98,
     "metadata": {},
     "output_type": "execute_result"
    }
   ],
   "source": [
    "accident_factors[\"2nd_Road_Number\"].values"
   ]
  },
  {
   "cell_type": "markdown",
   "id": "0c6959e1",
   "metadata": {},
   "source": [
    "All the values in 2nd class road number are zero, which do not make any impact on the output, \n",
    "Hence removing the column."
   ]
  },
  {
   "cell_type": "code",
   "execution_count": 99,
   "id": "401c0f26",
   "metadata": {},
   "outputs": [],
   "source": [
    "accident_factors.drop(\"2nd_Road_Number\", axis=1, inplace=True)"
   ]
  },
  {
   "cell_type": "code",
   "execution_count": 100,
   "id": "0599d05b",
   "metadata": {},
   "outputs": [
    {
     "name": "stdout",
     "output_type": "stream",
     "text": [
      "<class 'pandas.core.frame.DataFrame'>\n",
      "RangeIndex: 121259 entries, 0 to 121258\n",
      "Data columns (total 26 columns):\n",
      " #   Column                                       Non-Null Count   Dtype         \n",
      "---  ------                                       --------------   -----         \n",
      " 0   Accident_ID                                  121259 non-null  object        \n",
      " 1   Police_Force                                 121259 non-null  int64         \n",
      " 2   Number_of_Vehicles                           121259 non-null  int64         \n",
      " 3   Number_of_Casualties                         121259 non-null  int64         \n",
      " 4   Date                                         121259 non-null  datetime64[ns]\n",
      " 5   Day_of_Week                                  121259 non-null  object        \n",
      " 6   Time                                         121258 non-null  object        \n",
      " 7   Local_Authority_(District)                   121259 non-null  object        \n",
      " 8   Local_Authority_(Highway)                    121259 non-null  object        \n",
      " 9   1st_Road_Class                               121259 non-null  category      \n",
      " 10  1st_Road_Number                              121259 non-null  object        \n",
      " 11  Road_Type                                    121259 non-null  object        \n",
      " 12  Speed_limit                                  121259 non-null  category      \n",
      " 13  2nd_Road_Class                               121259 non-null  category      \n",
      " 14  Pedestrian_Crossing-Human_Control            121259 non-null  object        \n",
      " 15  Pedestrian_Crossing-Physical_Facilities      121259 non-null  object        \n",
      " 16  Light_Conditions                             121259 non-null  object        \n",
      " 17  Weather_Conditions                           121259 non-null  object        \n",
      " 18  Road_Surface_Conditions                      121220 non-null  object        \n",
      " 19  Special_Conditions_at_Site                   121249 non-null  object        \n",
      " 20  Carriageway_Hazards                          121259 non-null  object        \n",
      " 21  Urban_or_Rural_Area                          121259 non-null  category      \n",
      " 22  Did_Police_Officer_Attend_Scene_of_Accident  121259 non-null  object        \n",
      " 23  state                                        121259 non-null  object        \n",
      " 24  postcode                                     121259 non-null  object        \n",
      " 25  country                                      121259 non-null  object        \n",
      "dtypes: category(4), datetime64[ns](1), int64(3), object(18)\n",
      "memory usage: 20.8+ MB\n"
     ]
    }
   ],
   "source": [
    "accident_factors.info()"
   ]
  },
  {
   "cell_type": "code",
   "execution_count": 101,
   "id": "6d63cabc",
   "metadata": {},
   "outputs": [
    {
     "data": {
      "text/plain": [
       "array(['None within 50 metres', 'Control by other authorised person',\n",
       "       'Control by school crossing patrol'], dtype=object)"
      ]
     },
     "execution_count": 101,
     "metadata": {},
     "output_type": "execute_result"
    }
   ],
   "source": [
    "accident_factors['Pedestrian_Crossing-Human_Control'].unique()"
   ]
  },
  {
   "cell_type": "markdown",
   "id": "87a6d8e4",
   "metadata": {},
   "source": [
    "Can be converted to category as only 3 unique values are there"
   ]
  },
  {
   "cell_type": "code",
   "execution_count": 102,
   "id": "ea43d4bf",
   "metadata": {},
   "outputs": [],
   "source": [
    "accident_factors['Pedestrian_Crossing-Human_Control']=accident_factors['Pedestrian_Crossing-Human_Control'].astype('category')"
   ]
  },
  {
   "cell_type": "code",
   "execution_count": 103,
   "id": "98f73208",
   "metadata": {},
   "outputs": [
    {
     "data": {
      "text/plain": [
       "array(['No physical crossing within 50 meters',\n",
       "       'non-junction pedestrian crossing',\n",
       "       'Pedestrian phase at traffic signal junction', 'Zebra crossing',\n",
       "       'Central refuge', 'Footbridge or subway'], dtype=object)"
      ]
     },
     "execution_count": 103,
     "metadata": {},
     "output_type": "execute_result"
    }
   ],
   "source": [
    "accident_factors['Pedestrian_Crossing-Physical_Facilities'].unique()"
   ]
  },
  {
   "cell_type": "code",
   "execution_count": 104,
   "id": "453eb8e8",
   "metadata": {},
   "outputs": [],
   "source": [
    "# Convert to category\n",
    "accident_factors['Pedestrian_Crossing-Physical_Facilities']=accident_factors['Pedestrian_Crossing-Physical_Facilities'].astype('category')"
   ]
  },
  {
   "cell_type": "code",
   "execution_count": 105,
   "id": "f3b56b50",
   "metadata": {},
   "outputs": [
    {
     "name": "stdout",
     "output_type": "stream",
     "text": [
      "<class 'pandas.core.frame.DataFrame'>\n",
      "RangeIndex: 121259 entries, 0 to 121258\n",
      "Data columns (total 26 columns):\n",
      " #   Column                                       Non-Null Count   Dtype         \n",
      "---  ------                                       --------------   -----         \n",
      " 0   Accident_ID                                  121259 non-null  object        \n",
      " 1   Police_Force                                 121259 non-null  int64         \n",
      " 2   Number_of_Vehicles                           121259 non-null  int64         \n",
      " 3   Number_of_Casualties                         121259 non-null  int64         \n",
      " 4   Date                                         121259 non-null  datetime64[ns]\n",
      " 5   Day_of_Week                                  121259 non-null  object        \n",
      " 6   Time                                         121258 non-null  object        \n",
      " 7   Local_Authority_(District)                   121259 non-null  object        \n",
      " 8   Local_Authority_(Highway)                    121259 non-null  object        \n",
      " 9   1st_Road_Class                               121259 non-null  category      \n",
      " 10  1st_Road_Number                              121259 non-null  object        \n",
      " 11  Road_Type                                    121259 non-null  object        \n",
      " 12  Speed_limit                                  121259 non-null  category      \n",
      " 13  2nd_Road_Class                               121259 non-null  category      \n",
      " 14  Pedestrian_Crossing-Human_Control            121259 non-null  category      \n",
      " 15  Pedestrian_Crossing-Physical_Facilities      121259 non-null  category      \n",
      " 16  Light_Conditions                             121259 non-null  object        \n",
      " 17  Weather_Conditions                           121259 non-null  object        \n",
      " 18  Road_Surface_Conditions                      121220 non-null  object        \n",
      " 19  Special_Conditions_at_Site                   121249 non-null  object        \n",
      " 20  Carriageway_Hazards                          121259 non-null  object        \n",
      " 21  Urban_or_Rural_Area                          121259 non-null  category      \n",
      " 22  Did_Police_Officer_Attend_Scene_of_Accident  121259 non-null  object        \n",
      " 23  state                                        121259 non-null  object        \n",
      " 24  postcode                                     121259 non-null  object        \n",
      " 25  country                                      121259 non-null  object        \n",
      "dtypes: category(6), datetime64[ns](1), int64(3), object(16)\n",
      "memory usage: 19.2+ MB\n"
     ]
    }
   ],
   "source": [
    "accident_factors.info()"
   ]
  },
  {
   "cell_type": "code",
   "execution_count": 106,
   "id": "c4f8bf6f",
   "metadata": {},
   "outputs": [
    {
     "data": {
      "text/plain": [
       "array(['Daylight: Street light present',\n",
       "       'Darkness: Street lights present and lit',\n",
       "       'Darkeness: No street lighting',\n",
       "       'Darkness: Street lighting unknown',\n",
       "       'Darkness: Street lights present but unlit'], dtype=object)"
      ]
     },
     "execution_count": 106,
     "metadata": {},
     "output_type": "execute_result"
    }
   ],
   "source": [
    "accident_factors['Light_Conditions'].unique()"
   ]
  },
  {
   "cell_type": "code",
   "execution_count": 107,
   "id": "fcf60761",
   "metadata": {},
   "outputs": [],
   "source": [
    "#Convert to category\n",
    "accident_factors['Light_Conditions']= accident_factors['Light_Conditions'].astype('category')"
   ]
  },
  {
   "cell_type": "code",
   "execution_count": 108,
   "id": "b1b65c4d",
   "metadata": {},
   "outputs": [
    {
     "data": {
      "text/plain": [
       "array(['Snowing without high winds', 'Fine without high winds',\n",
       "       'Raining with high winds', 'Raining without high winds',\n",
       "       'Fine with high winds', 'Other', 'Fog or mist', 'Unknown',\n",
       "       'Snowing with high winds'], dtype=object)"
      ]
     },
     "execution_count": 108,
     "metadata": {},
     "output_type": "execute_result"
    }
   ],
   "source": [
    "accident_factors['Weather_Conditions'].unique()"
   ]
  },
  {
   "cell_type": "code",
   "execution_count": 109,
   "id": "b3928156",
   "metadata": {},
   "outputs": [],
   "source": [
    "# Convert to category\n",
    "accident_factors['Weather_Conditions']= accident_factors['Weather_Conditions'].astype('category')"
   ]
  },
  {
   "cell_type": "code",
   "execution_count": 110,
   "id": "2c82c3e1",
   "metadata": {},
   "outputs": [
    {
     "data": {
      "text/plain": [
       "array(['Dry', 'Wet/Damp', 'Frost/Ice', 'Snow', nan,\n",
       "       'Flood (Over 3cm of water)'], dtype=object)"
      ]
     },
     "execution_count": 110,
     "metadata": {},
     "output_type": "execute_result"
    }
   ],
   "source": [
    "accident_factors['Road_Surface_Conditions'].unique()"
   ]
  },
  {
   "cell_type": "markdown",
   "id": "30b9e837",
   "metadata": {},
   "source": [
    "Road Surface Conditions column has 39 blank values. Need to fill blank values with np.nan."
   ]
  },
  {
   "cell_type": "code",
   "execution_count": 111,
   "id": "190d9db2",
   "metadata": {},
   "outputs": [],
   "source": [
    "accident_factors['Road_Surface_Conditions']= accident_factors['Road_Surface_Conditions'].replace(\"\", np.nan)"
   ]
  },
  {
   "cell_type": "code",
   "execution_count": 112,
   "id": "688d1207",
   "metadata": {},
   "outputs": [
    {
     "data": {
      "text/plain": [
       "array(['Dry', 'Wet/Damp', 'Frost/Ice', 'Snow', nan,\n",
       "       'Flood (Over 3cm of water)'], dtype=object)"
      ]
     },
     "execution_count": 112,
     "metadata": {},
     "output_type": "execute_result"
    }
   ],
   "source": [
    "accident_factors['Road_Surface_Conditions'].unique()"
   ]
  },
  {
   "cell_type": "markdown",
   "id": "9e0f8c63",
   "metadata": {},
   "source": [
    "Change the NaN values as \"Not Reported\""
   ]
  },
  {
   "cell_type": "code",
   "execution_count": 113,
   "id": "9f44f77f",
   "metadata": {},
   "outputs": [],
   "source": [
    "accident_factors['Road_Surface_Conditions']= accident_factors['Road_Surface_Conditions'].replace(np.nan, \"Not reported\")"
   ]
  },
  {
   "cell_type": "code",
   "execution_count": 114,
   "id": "962eb61e",
   "metadata": {},
   "outputs": [
    {
     "data": {
      "text/plain": [
       "array(['Dry', 'Wet/Damp', 'Frost/Ice', 'Snow', 'Not reported',\n",
       "       'Flood (Over 3cm of water)'], dtype=object)"
      ]
     },
     "execution_count": 114,
     "metadata": {},
     "output_type": "execute_result"
    }
   ],
   "source": [
    "accident_factors['Road_Surface_Conditions'].unique()"
   ]
  },
  {
   "cell_type": "code",
   "execution_count": 115,
   "id": "2adfcd32",
   "metadata": {},
   "outputs": [],
   "source": [
    "accident_factors['Road_Surface_Conditions']=accident_factors['Road_Surface_Conditions'].astype(\"category\")"
   ]
  },
  {
   "cell_type": "code",
   "execution_count": 116,
   "id": "04c57178",
   "metadata": {},
   "outputs": [
    {
     "name": "stdout",
     "output_type": "stream",
     "text": [
      "<class 'pandas.core.frame.DataFrame'>\n",
      "RangeIndex: 121259 entries, 0 to 121258\n",
      "Data columns (total 26 columns):\n",
      " #   Column                                       Non-Null Count   Dtype         \n",
      "---  ------                                       --------------   -----         \n",
      " 0   Accident_ID                                  121259 non-null  object        \n",
      " 1   Police_Force                                 121259 non-null  int64         \n",
      " 2   Number_of_Vehicles                           121259 non-null  int64         \n",
      " 3   Number_of_Casualties                         121259 non-null  int64         \n",
      " 4   Date                                         121259 non-null  datetime64[ns]\n",
      " 5   Day_of_Week                                  121259 non-null  object        \n",
      " 6   Time                                         121258 non-null  object        \n",
      " 7   Local_Authority_(District)                   121259 non-null  object        \n",
      " 8   Local_Authority_(Highway)                    121259 non-null  object        \n",
      " 9   1st_Road_Class                               121259 non-null  category      \n",
      " 10  1st_Road_Number                              121259 non-null  object        \n",
      " 11  Road_Type                                    121259 non-null  object        \n",
      " 12  Speed_limit                                  121259 non-null  category      \n",
      " 13  2nd_Road_Class                               121259 non-null  category      \n",
      " 14  Pedestrian_Crossing-Human_Control            121259 non-null  category      \n",
      " 15  Pedestrian_Crossing-Physical_Facilities      121259 non-null  category      \n",
      " 16  Light_Conditions                             121259 non-null  category      \n",
      " 17  Weather_Conditions                           121259 non-null  category      \n",
      " 18  Road_Surface_Conditions                      121259 non-null  category      \n",
      " 19  Special_Conditions_at_Site                   121249 non-null  object        \n",
      " 20  Carriageway_Hazards                          121259 non-null  object        \n",
      " 21  Urban_or_Rural_Area                          121259 non-null  category      \n",
      " 22  Did_Police_Officer_Attend_Scene_of_Accident  121259 non-null  object        \n",
      " 23  state                                        121259 non-null  object        \n",
      " 24  postcode                                     121259 non-null  object        \n",
      " 25  country                                      121259 non-null  object        \n",
      "dtypes: category(9), datetime64[ns](1), int64(3), object(13)\n",
      "memory usage: 16.8+ MB\n"
     ]
    }
   ],
   "source": [
    "accident_factors.info()"
   ]
  },
  {
   "cell_type": "code",
   "execution_count": 117,
   "id": "ef482fe6",
   "metadata": {},
   "outputs": [
    {
     "data": {
      "text/plain": [
       "array(['None', 'Roadworks',\n",
       "       'Permanent sign or marking defective or obscured', 'Ol or diesel',\n",
       "       'Auto traffic singal out', 'Road surface defective', 'Mud',\n",
       "       'Auto traffic signal partly defective', nan], dtype=object)"
      ]
     },
     "execution_count": 117,
     "metadata": {},
     "output_type": "execute_result"
    }
   ],
   "source": [
    "accident_factors['Special_Conditions_at_Site'].unique()"
   ]
  },
  {
   "cell_type": "markdown",
   "id": "8b7e3aba",
   "metadata": {},
   "source": [
    "Special conditions at site column has 10 blank values.\n",
    "Need to replace with NaN\n",
    "Replace NaN value with \"Not Reported\""
   ]
  },
  {
   "cell_type": "code",
   "execution_count": 118,
   "id": "b9239e96",
   "metadata": {},
   "outputs": [],
   "source": [
    "accident_factors['Special_Conditions_at_Site']=accident_factors['Special_Conditions_at_Site'].replace(\"\", np.nan)"
   ]
  },
  {
   "cell_type": "code",
   "execution_count": 119,
   "id": "6c181f32",
   "metadata": {},
   "outputs": [],
   "source": [
    "accident_factors['Special_Conditions_at_Site']=accident_factors['Special_Conditions_at_Site'].replace(np.nan, \"Not reported\")"
   ]
  },
  {
   "cell_type": "code",
   "execution_count": 120,
   "id": "8f182094",
   "metadata": {},
   "outputs": [
    {
     "data": {
      "text/plain": [
       "array(['None', 'Roadworks',\n",
       "       'Permanent sign or marking defective or obscured', 'Ol or diesel',\n",
       "       'Auto traffic singal out', 'Road surface defective', 'Mud',\n",
       "       'Auto traffic signal partly defective', 'Not reported'],\n",
       "      dtype=object)"
      ]
     },
     "execution_count": 120,
     "metadata": {},
     "output_type": "execute_result"
    }
   ],
   "source": [
    "accident_factors['Special_Conditions_at_Site'].unique()"
   ]
  },
  {
   "cell_type": "code",
   "execution_count": 121,
   "id": "a13f8839",
   "metadata": {},
   "outputs": [
    {
     "name": "stdout",
     "output_type": "stream",
     "text": [
      "<class 'pandas.core.frame.DataFrame'>\n",
      "RangeIndex: 121259 entries, 0 to 121258\n",
      "Data columns (total 26 columns):\n",
      " #   Column                                       Non-Null Count   Dtype         \n",
      "---  ------                                       --------------   -----         \n",
      " 0   Accident_ID                                  121259 non-null  object        \n",
      " 1   Police_Force                                 121259 non-null  int64         \n",
      " 2   Number_of_Vehicles                           121259 non-null  int64         \n",
      " 3   Number_of_Casualties                         121259 non-null  int64         \n",
      " 4   Date                                         121259 non-null  datetime64[ns]\n",
      " 5   Day_of_Week                                  121259 non-null  object        \n",
      " 6   Time                                         121258 non-null  object        \n",
      " 7   Local_Authority_(District)                   121259 non-null  object        \n",
      " 8   Local_Authority_(Highway)                    121259 non-null  object        \n",
      " 9   1st_Road_Class                               121259 non-null  category      \n",
      " 10  1st_Road_Number                              121259 non-null  object        \n",
      " 11  Road_Type                                    121259 non-null  object        \n",
      " 12  Speed_limit                                  121259 non-null  category      \n",
      " 13  2nd_Road_Class                               121259 non-null  category      \n",
      " 14  Pedestrian_Crossing-Human_Control            121259 non-null  category      \n",
      " 15  Pedestrian_Crossing-Physical_Facilities      121259 non-null  category      \n",
      " 16  Light_Conditions                             121259 non-null  category      \n",
      " 17  Weather_Conditions                           121259 non-null  category      \n",
      " 18  Road_Surface_Conditions                      121259 non-null  category      \n",
      " 19  Special_Conditions_at_Site                   121259 non-null  object        \n",
      " 20  Carriageway_Hazards                          121259 non-null  object        \n",
      " 21  Urban_or_Rural_Area                          121259 non-null  category      \n",
      " 22  Did_Police_Officer_Attend_Scene_of_Accident  121259 non-null  object        \n",
      " 23  state                                        121259 non-null  object        \n",
      " 24  postcode                                     121259 non-null  object        \n",
      " 25  country                                      121259 non-null  object        \n",
      "dtypes: category(9), datetime64[ns](1), int64(3), object(13)\n",
      "memory usage: 16.8+ MB\n"
     ]
    }
   ],
   "source": [
    "accident_factors.info()"
   ]
  },
  {
   "cell_type": "markdown",
   "id": "fa69273f",
   "metadata": {},
   "source": [
    "Time column has one value as blank"
   ]
  },
  {
   "cell_type": "markdown",
   "id": "c51dcc96",
   "metadata": {},
   "source": [
    "Time column has one blank value, need to convert to NaN and replace with value as \"Not Reported\""
   ]
  },
  {
   "cell_type": "code",
   "execution_count": 122,
   "id": "468583b2",
   "metadata": {},
   "outputs": [],
   "source": [
    "accident_factors['Time']=accident_factors['Time'].replace(\"\",np.nan)\n",
    "accident_factors['Time']= accident_factors['Time'].replace(np.nan, \"Not Reported\")"
   ]
  },
  {
   "cell_type": "code",
   "execution_count": 123,
   "id": "678333fb",
   "metadata": {},
   "outputs": [
    {
     "name": "stdout",
     "output_type": "stream",
     "text": [
      "<class 'pandas.core.frame.DataFrame'>\n",
      "RangeIndex: 121259 entries, 0 to 121258\n",
      "Data columns (total 26 columns):\n",
      " #   Column                                       Non-Null Count   Dtype         \n",
      "---  ------                                       --------------   -----         \n",
      " 0   Accident_ID                                  121259 non-null  object        \n",
      " 1   Police_Force                                 121259 non-null  int64         \n",
      " 2   Number_of_Vehicles                           121259 non-null  int64         \n",
      " 3   Number_of_Casualties                         121259 non-null  int64         \n",
      " 4   Date                                         121259 non-null  datetime64[ns]\n",
      " 5   Day_of_Week                                  121259 non-null  object        \n",
      " 6   Time                                         121259 non-null  object        \n",
      " 7   Local_Authority_(District)                   121259 non-null  object        \n",
      " 8   Local_Authority_(Highway)                    121259 non-null  object        \n",
      " 9   1st_Road_Class                               121259 non-null  category      \n",
      " 10  1st_Road_Number                              121259 non-null  object        \n",
      " 11  Road_Type                                    121259 non-null  object        \n",
      " 12  Speed_limit                                  121259 non-null  category      \n",
      " 13  2nd_Road_Class                               121259 non-null  category      \n",
      " 14  Pedestrian_Crossing-Human_Control            121259 non-null  category      \n",
      " 15  Pedestrian_Crossing-Physical_Facilities      121259 non-null  category      \n",
      " 16  Light_Conditions                             121259 non-null  category      \n",
      " 17  Weather_Conditions                           121259 non-null  category      \n",
      " 18  Road_Surface_Conditions                      121259 non-null  category      \n",
      " 19  Special_Conditions_at_Site                   121259 non-null  object        \n",
      " 20  Carriageway_Hazards                          121259 non-null  object        \n",
      " 21  Urban_or_Rural_Area                          121259 non-null  category      \n",
      " 22  Did_Police_Officer_Attend_Scene_of_Accident  121259 non-null  object        \n",
      " 23  state                                        121259 non-null  object        \n",
      " 24  postcode                                     121259 non-null  object        \n",
      " 25  country                                      121259 non-null  object        \n",
      "dtypes: category(9), datetime64[ns](1), int64(3), object(13)\n",
      "memory usage: 16.8+ MB\n"
     ]
    }
   ],
   "source": [
    "accident_factors.info()"
   ]
  },
  {
   "cell_type": "markdown",
   "id": "7d64938b",
   "metadata": {},
   "source": [
    "# Add two new columns \"Month\" and \"Season\" for catgorizing the date by season"
   ]
  },
  {
   "cell_type": "code",
   "execution_count": 124,
   "id": "14266502",
   "metadata": {},
   "outputs": [
    {
     "data": {
      "text/html": [
       "<div>\n",
       "<style scoped>\n",
       "    .dataframe tbody tr th:only-of-type {\n",
       "        vertical-align: middle;\n",
       "    }\n",
       "\n",
       "    .dataframe tbody tr th {\n",
       "        vertical-align: top;\n",
       "    }\n",
       "\n",
       "    .dataframe thead th {\n",
       "        text-align: right;\n",
       "    }\n",
       "</style>\n",
       "<table border=\"1\" class=\"dataframe\">\n",
       "  <thead>\n",
       "    <tr style=\"text-align: right;\">\n",
       "      <th></th>\n",
       "      <th>Accident_ID</th>\n",
       "      <th>Police_Force</th>\n",
       "      <th>Number_of_Vehicles</th>\n",
       "      <th>Number_of_Casualties</th>\n",
       "      <th>Date</th>\n",
       "      <th>Day_of_Week</th>\n",
       "      <th>Time</th>\n",
       "      <th>Local_Authority_(District)</th>\n",
       "      <th>Local_Authority_(Highway)</th>\n",
       "      <th>1st_Road_Class</th>\n",
       "      <th>...</th>\n",
       "      <th>Weather_Conditions</th>\n",
       "      <th>Road_Surface_Conditions</th>\n",
       "      <th>Special_Conditions_at_Site</th>\n",
       "      <th>Carriageway_Hazards</th>\n",
       "      <th>Urban_or_Rural_Area</th>\n",
       "      <th>Did_Police_Officer_Attend_Scene_of_Accident</th>\n",
       "      <th>state</th>\n",
       "      <th>postcode</th>\n",
       "      <th>country</th>\n",
       "      <th>Month</th>\n",
       "    </tr>\n",
       "  </thead>\n",
       "  <tbody>\n",
       "    <tr>\n",
       "      <th>0</th>\n",
       "      <td>14</td>\n",
       "      <td>13</td>\n",
       "      <td>2</td>\n",
       "      <td>0</td>\n",
       "      <td>2013-06-10</td>\n",
       "      <td>Mon</td>\n",
       "      <td>13:28:00</td>\n",
       "      <td>218</td>\n",
       "      <td>E10000032</td>\n",
       "      <td>4</td>\n",
       "      <td>...</td>\n",
       "      <td>Snowing without high winds</td>\n",
       "      <td>Dry</td>\n",
       "      <td>None</td>\n",
       "      <td>None</td>\n",
       "      <td>2</td>\n",
       "      <td>Yes</td>\n",
       "      <td>England</td>\n",
       "      <td>HX2 8WH</td>\n",
       "      <td>United Kingdom</td>\n",
       "      <td>6</td>\n",
       "    </tr>\n",
       "    <tr>\n",
       "      <th>1</th>\n",
       "      <td>17</td>\n",
       "      <td>13</td>\n",
       "      <td>2</td>\n",
       "      <td>0</td>\n",
       "      <td>2013-04-22</td>\n",
       "      <td>Mon</td>\n",
       "      <td>09:30:00</td>\n",
       "      <td>157</td>\n",
       "      <td>E10000034</td>\n",
       "      <td>6</td>\n",
       "      <td>...</td>\n",
       "      <td>Fine without high winds</td>\n",
       "      <td>Dry</td>\n",
       "      <td>None</td>\n",
       "      <td>None</td>\n",
       "      <td>1</td>\n",
       "      <td>No</td>\n",
       "      <td>England</td>\n",
       "      <td>RM8 1DD</td>\n",
       "      <td>United Kingdom</td>\n",
       "      <td>4</td>\n",
       "    </tr>\n",
       "    <tr>\n",
       "      <th>2</th>\n",
       "      <td>21</td>\n",
       "      <td>13</td>\n",
       "      <td>2</td>\n",
       "      <td>0</td>\n",
       "      <td>2013-09-27</td>\n",
       "      <td>Fri</td>\n",
       "      <td>19:10:00</td>\n",
       "      <td>155</td>\n",
       "      <td>E09000012</td>\n",
       "      <td>3</td>\n",
       "      <td>...</td>\n",
       "      <td>Fine without high winds</td>\n",
       "      <td>Wet/Damp</td>\n",
       "      <td>None</td>\n",
       "      <td>None</td>\n",
       "      <td>1</td>\n",
       "      <td>Yes</td>\n",
       "      <td>England</td>\n",
       "      <td>SE23 1NH</td>\n",
       "      <td>United Kingdom</td>\n",
       "      <td>9</td>\n",
       "    </tr>\n",
       "    <tr>\n",
       "      <th>3</th>\n",
       "      <td>23</td>\n",
       "      <td>13</td>\n",
       "      <td>2</td>\n",
       "      <td>0</td>\n",
       "      <td>2013-03-13</td>\n",
       "      <td>Wed</td>\n",
       "      <td>09:19:00</td>\n",
       "      <td>26</td>\n",
       "      <td>E10000016</td>\n",
       "      <td>4</td>\n",
       "      <td>...</td>\n",
       "      <td>Fine without high winds</td>\n",
       "      <td>Dry</td>\n",
       "      <td>None</td>\n",
       "      <td>None</td>\n",
       "      <td>1</td>\n",
       "      <td>Yes</td>\n",
       "      <td>England</td>\n",
       "      <td>HU10 7QS</td>\n",
       "      <td>United Kingdom</td>\n",
       "      <td>3</td>\n",
       "    </tr>\n",
       "    <tr>\n",
       "      <th>4</th>\n",
       "      <td>28</td>\n",
       "      <td>14</td>\n",
       "      <td>2</td>\n",
       "      <td>0</td>\n",
       "      <td>2013-06-13</td>\n",
       "      <td>Thu</td>\n",
       "      <td>14:59:00</td>\n",
       "      <td>6</td>\n",
       "      <td>E08000012</td>\n",
       "      <td>4</td>\n",
       "      <td>...</td>\n",
       "      <td>Fine without high winds</td>\n",
       "      <td>Dry</td>\n",
       "      <td>None</td>\n",
       "      <td>None</td>\n",
       "      <td>1</td>\n",
       "      <td>Yes</td>\n",
       "      <td>England</td>\n",
       "      <td>BD23 5JL</td>\n",
       "      <td>United Kingdom</td>\n",
       "      <td>6</td>\n",
       "    </tr>\n",
       "    <tr>\n",
       "      <th>...</th>\n",
       "      <td>...</td>\n",
       "      <td>...</td>\n",
       "      <td>...</td>\n",
       "      <td>...</td>\n",
       "      <td>...</td>\n",
       "      <td>...</td>\n",
       "      <td>...</td>\n",
       "      <td>...</td>\n",
       "      <td>...</td>\n",
       "      <td>...</td>\n",
       "      <td>...</td>\n",
       "      <td>...</td>\n",
       "      <td>...</td>\n",
       "      <td>...</td>\n",
       "      <td>...</td>\n",
       "      <td>...</td>\n",
       "      <td>...</td>\n",
       "      <td>...</td>\n",
       "      <td>...</td>\n",
       "      <td>...</td>\n",
       "      <td>...</td>\n",
       "    </tr>\n",
       "    <tr>\n",
       "      <th>121254</th>\n",
       "      <td>599986</td>\n",
       "      <td>1</td>\n",
       "      <td>2</td>\n",
       "      <td>0</td>\n",
       "      <td>2013-05-07</td>\n",
       "      <td>Tues</td>\n",
       "      <td>18:31:00</td>\n",
       "      <td>6</td>\n",
       "      <td>E06000042</td>\n",
       "      <td>6</td>\n",
       "      <td>...</td>\n",
       "      <td>Fine without high winds</td>\n",
       "      <td>Wet/Damp</td>\n",
       "      <td>None</td>\n",
       "      <td>None</td>\n",
       "      <td>1</td>\n",
       "      <td>Yes</td>\n",
       "      <td>England</td>\n",
       "      <td>HD9 4AB</td>\n",
       "      <td>United Kingdom</td>\n",
       "      <td>5</td>\n",
       "    </tr>\n",
       "    <tr>\n",
       "      <th>121255</th>\n",
       "      <td>599990</td>\n",
       "      <td>62</td>\n",
       "      <td>2</td>\n",
       "      <td>0</td>\n",
       "      <td>2013-11-22</td>\n",
       "      <td>Fri</td>\n",
       "      <td>07:40:00</td>\n",
       "      <td>633</td>\n",
       "      <td>W06000004</td>\n",
       "      <td>3</td>\n",
       "      <td>...</td>\n",
       "      <td>Raining without high winds</td>\n",
       "      <td>Wet/Damp</td>\n",
       "      <td>None</td>\n",
       "      <td>None</td>\n",
       "      <td>1</td>\n",
       "      <td>Yes</td>\n",
       "      <td>Alba / Scotland</td>\n",
       "      <td>AL2 1FS</td>\n",
       "      <td>United Kingdom</td>\n",
       "      <td>11</td>\n",
       "    </tr>\n",
       "    <tr>\n",
       "      <th>121256</th>\n",
       "      <td>599991</td>\n",
       "      <td>13</td>\n",
       "      <td>2</td>\n",
       "      <td>0</td>\n",
       "      <td>2013-12-10</td>\n",
       "      <td>Tues</td>\n",
       "      <td>08:26:00</td>\n",
       "      <td>143</td>\n",
       "      <td>E10000034</td>\n",
       "      <td>3</td>\n",
       "      <td>...</td>\n",
       "      <td>Fine without high winds</td>\n",
       "      <td>Dry</td>\n",
       "      <td>Roadworks</td>\n",
       "      <td>None</td>\n",
       "      <td>2</td>\n",
       "      <td>Yes</td>\n",
       "      <td>England</td>\n",
       "      <td>BN3 3WA</td>\n",
       "      <td>United Kingdom</td>\n",
       "      <td>12</td>\n",
       "    </tr>\n",
       "    <tr>\n",
       "      <th>121257</th>\n",
       "      <td>599993</td>\n",
       "      <td>1</td>\n",
       "      <td>2</td>\n",
       "      <td>0</td>\n",
       "      <td>2013-05-06</td>\n",
       "      <td>Mon</td>\n",
       "      <td>22:54:00</td>\n",
       "      <td>7</td>\n",
       "      <td>E09000016</td>\n",
       "      <td>6</td>\n",
       "      <td>...</td>\n",
       "      <td>Fine without high winds</td>\n",
       "      <td>Wet/Damp</td>\n",
       "      <td>Roadworks</td>\n",
       "      <td>None</td>\n",
       "      <td>1</td>\n",
       "      <td>Yes</td>\n",
       "      <td>England</td>\n",
       "      <td>DL14 8HH</td>\n",
       "      <td>United Kingdom</td>\n",
       "      <td>5</td>\n",
       "    </tr>\n",
       "    <tr>\n",
       "      <th>121258</th>\n",
       "      <td>600000</td>\n",
       "      <td>1</td>\n",
       "      <td>2</td>\n",
       "      <td>0</td>\n",
       "      <td>2013-08-10</td>\n",
       "      <td>Sat</td>\n",
       "      <td>10:20:00</td>\n",
       "      <td>22</td>\n",
       "      <td>E09000025</td>\n",
       "      <td>5</td>\n",
       "      <td>...</td>\n",
       "      <td>Fine without high winds</td>\n",
       "      <td>Wet/Damp</td>\n",
       "      <td>Roadworks</td>\n",
       "      <td>None</td>\n",
       "      <td>1</td>\n",
       "      <td>Yes</td>\n",
       "      <td>England</td>\n",
       "      <td>E14 8JT</td>\n",
       "      <td>United Kingdom</td>\n",
       "      <td>8</td>\n",
       "    </tr>\n",
       "  </tbody>\n",
       "</table>\n",
       "<p>121259 rows × 27 columns</p>\n",
       "</div>"
      ],
      "text/plain": [
       "       Accident_ID  Police_Force  Number_of_Vehicles  Number_of_Casualties  \\\n",
       "0               14            13                   2                     0   \n",
       "1               17            13                   2                     0   \n",
       "2               21            13                   2                     0   \n",
       "3               23            13                   2                     0   \n",
       "4               28            14                   2                     0   \n",
       "...            ...           ...                 ...                   ...   \n",
       "121254      599986             1                   2                     0   \n",
       "121255      599990            62                   2                     0   \n",
       "121256      599991            13                   2                     0   \n",
       "121257      599993             1                   2                     0   \n",
       "121258      600000             1                   2                     0   \n",
       "\n",
       "             Date Day_of_Week      Time Local_Authority_(District)  \\\n",
       "0      2013-06-10         Mon  13:28:00                        218   \n",
       "1      2013-04-22         Mon  09:30:00                        157   \n",
       "2      2013-09-27         Fri  19:10:00                        155   \n",
       "3      2013-03-13         Wed  09:19:00                         26   \n",
       "4      2013-06-13         Thu  14:59:00                          6   \n",
       "...           ...         ...       ...                        ...   \n",
       "121254 2013-05-07        Tues  18:31:00                          6   \n",
       "121255 2013-11-22         Fri  07:40:00                        633   \n",
       "121256 2013-12-10        Tues  08:26:00                        143   \n",
       "121257 2013-05-06         Mon  22:54:00                          7   \n",
       "121258 2013-08-10         Sat  10:20:00                         22   \n",
       "\n",
       "       Local_Authority_(Highway) 1st_Road_Class  ...  \\\n",
       "0                      E10000032              4  ...   \n",
       "1                      E10000034              6  ...   \n",
       "2                      E09000012              3  ...   \n",
       "3                      E10000016              4  ...   \n",
       "4                      E08000012              4  ...   \n",
       "...                          ...            ...  ...   \n",
       "121254                 E06000042              6  ...   \n",
       "121255                 W06000004              3  ...   \n",
       "121256                 E10000034              3  ...   \n",
       "121257                 E09000016              6  ...   \n",
       "121258                 E09000025              5  ...   \n",
       "\n",
       "                Weather_Conditions Road_Surface_Conditions  \\\n",
       "0       Snowing without high winds                     Dry   \n",
       "1          Fine without high winds                     Dry   \n",
       "2          Fine without high winds                Wet/Damp   \n",
       "3          Fine without high winds                     Dry   \n",
       "4          Fine without high winds                     Dry   \n",
       "...                            ...                     ...   \n",
       "121254     Fine without high winds                Wet/Damp   \n",
       "121255  Raining without high winds                Wet/Damp   \n",
       "121256     Fine without high winds                     Dry   \n",
       "121257     Fine without high winds                Wet/Damp   \n",
       "121258     Fine without high winds                Wet/Damp   \n",
       "\n",
       "       Special_Conditions_at_Site Carriageway_Hazards Urban_or_Rural_Area  \\\n",
       "0                            None                None                   2   \n",
       "1                            None                None                   1   \n",
       "2                            None                None                   1   \n",
       "3                            None                None                   1   \n",
       "4                            None                None                   1   \n",
       "...                           ...                 ...                 ...   \n",
       "121254                       None                None                   1   \n",
       "121255                       None                None                   1   \n",
       "121256                  Roadworks                None                   2   \n",
       "121257                  Roadworks                None                   1   \n",
       "121258                  Roadworks                None                   1   \n",
       "\n",
       "       Did_Police_Officer_Attend_Scene_of_Accident            state  postcode  \\\n",
       "0                                              Yes          England   HX2 8WH   \n",
       "1                                               No          England   RM8 1DD   \n",
       "2                                              Yes          England  SE23 1NH   \n",
       "3                                              Yes          England  HU10 7QS   \n",
       "4                                              Yes          England  BD23 5JL   \n",
       "...                                            ...              ...       ...   \n",
       "121254                                         Yes          England   HD9 4AB   \n",
       "121255                                         Yes  Alba / Scotland   AL2 1FS   \n",
       "121256                                         Yes          England   BN3 3WA   \n",
       "121257                                         Yes          England  DL14 8HH   \n",
       "121258                                         Yes          England   E14 8JT   \n",
       "\n",
       "               country Month  \n",
       "0       United Kingdom     6  \n",
       "1       United Kingdom     4  \n",
       "2       United Kingdom     9  \n",
       "3       United Kingdom     3  \n",
       "4       United Kingdom     6  \n",
       "...                ...   ...  \n",
       "121254  United Kingdom     5  \n",
       "121255  United Kingdom    11  \n",
       "121256  United Kingdom    12  \n",
       "121257  United Kingdom     5  \n",
       "121258  United Kingdom     8  \n",
       "\n",
       "[121259 rows x 27 columns]"
      ]
     },
     "execution_count": 124,
     "metadata": {},
     "output_type": "execute_result"
    }
   ],
   "source": [
    "# Already imported datetime package\n",
    "accident_factors['Month']= pd.DatetimeIndex(accident_factors['Date']).month\n",
    "accident_factors"
   ]
  },
  {
   "cell_type": "code",
   "execution_count": 125,
   "id": "bf594292",
   "metadata": {},
   "outputs": [
    {
     "data": {
      "text/plain": [
       "array([0], dtype=int64)"
      ]
     },
     "execution_count": 125,
     "metadata": {},
     "output_type": "execute_result"
    }
   ],
   "source": [
    "accident_factors['Number_of_Casualties'].unique()"
   ]
  },
  {
   "cell_type": "code",
   "execution_count": 53,
   "id": "2220f2c1",
   "metadata": {},
   "outputs": [],
   "source": [
    "# Converting month number to month name\n",
    "import calendar"
   ]
  },
  {
   "cell_type": "code",
   "execution_count": 54,
   "id": "0ca241e7",
   "metadata": {},
   "outputs": [],
   "source": [
    "accident_factors['Month']= accident_factors['Month'].apply(lambda x: calendar.month_abbr[x])"
   ]
  },
  {
   "cell_type": "code",
   "execution_count": 55,
   "id": "c0a853de",
   "metadata": {},
   "outputs": [
    {
     "data": {
      "text/plain": [
       "0         Jun\n",
       "1         Apr\n",
       "2         Sep\n",
       "3         Mar\n",
       "4         Jun\n",
       "         ... \n",
       "121254    May\n",
       "121255    Nov\n",
       "121256    Dec\n",
       "121257    May\n",
       "121258    Aug\n",
       "Name: Month, Length: 121259, dtype: object"
      ]
     },
     "execution_count": 55,
     "metadata": {},
     "output_type": "execute_result"
    }
   ],
   "source": [
    "accident_factors['Month']"
   ]
  },
  {
   "cell_type": "code",
   "execution_count": 56,
   "id": "d8e5cf68",
   "metadata": {},
   "outputs": [],
   "source": [
    "# create season column based on month "
   ]
  },
  {
   "cell_type": "code",
   "execution_count": 57,
   "id": "8f0051fe",
   "metadata": {},
   "outputs": [],
   "source": [
    "season = {'Jan': 'Winter',\n",
    "          'Feb': 'Winter',\n",
    "          'Mar': 'Spring', \n",
    "          'Apr': 'Spring',\n",
    "          'May': 'Spring',\n",
    "          'Jun': 'Summer',\n",
    "          'Jul': 'Summer',\n",
    "          'Aug': 'Summer',\n",
    "          'Sep': 'Autumn',\n",
    "          'Oct': 'Autumn',\n",
    "          'Nov': 'Autumn',\n",
    "          'Dec': 'Winter'}\n",
    "accident_factors['Season']= accident_factors['Month'].apply(lambda y: season[y])"
   ]
  },
  {
   "cell_type": "code",
   "execution_count": 58,
   "id": "f4026339",
   "metadata": {},
   "outputs": [
    {
     "data": {
      "text/plain": [
       "0         Summer\n",
       "1         Spring\n",
       "2         Autumn\n",
       "3         Spring\n",
       "4         Summer\n",
       "           ...  \n",
       "121254    Spring\n",
       "121255    Autumn\n",
       "121256    Winter\n",
       "121257    Spring\n",
       "121258    Summer\n",
       "Name: Season, Length: 121259, dtype: object"
      ]
     },
     "execution_count": 58,
     "metadata": {},
     "output_type": "execute_result"
    }
   ],
   "source": [
    "accident_factors['Season']"
   ]
  },
  {
   "cell_type": "code",
   "execution_count": 59,
   "id": "81205f0f",
   "metadata": {},
   "outputs": [
    {
     "data": {
      "text/plain": [
       "array(['Summer', 'Spring', 'Autumn', 'Winter'], dtype=object)"
      ]
     },
     "execution_count": 59,
     "metadata": {},
     "output_type": "execute_result"
    }
   ],
   "source": [
    "accident_factors['Season'].unique()"
   ]
  },
  {
   "cell_type": "markdown",
   "id": "a71a1fbc",
   "metadata": {},
   "source": [
    "# To categorize the time into different categorization of a day"
   ]
  },
  {
   "cell_type": "code",
   "execution_count": 60,
   "id": "f6238342",
   "metadata": {},
   "outputs": [],
   "source": [
    "accident_factors['Time']= accident_factors['Time'].replace(\"\",np.nan)"
   ]
  },
  {
   "cell_type": "markdown",
   "id": "f6122474",
   "metadata": {},
   "source": [
    "One value of Time is not available and is displayed as blank. \n"
   ]
  },
  {
   "cell_type": "code",
   "execution_count": 61,
   "id": "b99c557c",
   "metadata": {},
   "outputs": [
    {
     "data": {
      "text/html": [
       "<div>\n",
       "<style scoped>\n",
       "    .dataframe tbody tr th:only-of-type {\n",
       "        vertical-align: middle;\n",
       "    }\n",
       "\n",
       "    .dataframe tbody tr th {\n",
       "        vertical-align: top;\n",
       "    }\n",
       "\n",
       "    .dataframe thead th {\n",
       "        text-align: right;\n",
       "    }\n",
       "</style>\n",
       "<table border=\"1\" class=\"dataframe\">\n",
       "  <thead>\n",
       "    <tr style=\"text-align: right;\">\n",
       "      <th></th>\n",
       "      <th>Accident_ID</th>\n",
       "      <th>Police_Force</th>\n",
       "      <th>Number_of_Vehicles</th>\n",
       "      <th>Number_of_Casualties</th>\n",
       "      <th>Date</th>\n",
       "      <th>Day_of_Week</th>\n",
       "      <th>Time</th>\n",
       "      <th>Local_Authority_(District)</th>\n",
       "      <th>Local_Authority_(Highway)</th>\n",
       "      <th>1st_Road_Class</th>\n",
       "      <th>...</th>\n",
       "      <th>Road_Surface_Conditions</th>\n",
       "      <th>Special_Conditions_at_Site</th>\n",
       "      <th>Carriageway_Hazards</th>\n",
       "      <th>Urban_or_Rural_Area</th>\n",
       "      <th>Did_Police_Officer_Attend_Scene_of_Accident</th>\n",
       "      <th>state</th>\n",
       "      <th>postcode</th>\n",
       "      <th>country</th>\n",
       "      <th>Month</th>\n",
       "      <th>Season</th>\n",
       "    </tr>\n",
       "  </thead>\n",
       "  <tbody>\n",
       "  </tbody>\n",
       "</table>\n",
       "<p>0 rows × 28 columns</p>\n",
       "</div>"
      ],
      "text/plain": [
       "Empty DataFrame\n",
       "Columns: [Accident_ID, Police_Force, Number_of_Vehicles, Number_of_Casualties, Date, Day_of_Week, Time, Local_Authority_(District), Local_Authority_(Highway), 1st_Road_Class, 1st_Road_Number, Road_Type, Speed_limit, 2nd_Road_Class, Pedestrian_Crossing-Human_Control, Pedestrian_Crossing-Physical_Facilities, Light_Conditions, Weather_Conditions, Road_Surface_Conditions, Special_Conditions_at_Site, Carriageway_Hazards, Urban_or_Rural_Area, Did_Police_Officer_Attend_Scene_of_Accident, state, postcode, country, Month, Season]\n",
       "Index: []\n",
       "\n",
       "[0 rows x 28 columns]"
      ]
     },
     "execution_count": 61,
     "metadata": {},
     "output_type": "execute_result"
    }
   ],
   "source": [
    "accident_factors[accident_factors['Time'].isna()]"
   ]
  },
  {
   "cell_type": "markdown",
   "id": "1c8be333",
   "metadata": {},
   "source": [
    "Added a new column \"Day_cls\" based on time of day (Morning, Afternoon, Eveng and Night) according to time interval"
   ]
  },
  {
   "cell_type": "code",
   "execution_count": 62,
   "id": "1ffe55f1",
   "metadata": {},
   "outputs": [],
   "source": [
    "# A function to categorize the time interval\n",
    "#def day_partition(x):\n",
    "#    if (x>=pd.datetime.datetime() & (x<pd.to_datetime(06:00:00)) & (x>21):\n",
    "#        Day_cls='night'\n",
    "#    elif (x>=6) & (x<12):\n",
    "#        Day_cls='morning'\n",
    "#    elif (x>=12) & (x<18):\n",
    "#        Day_cls='afternoon'\n",
    "#    else:\n",
    "#        Day_cls='evening'\n",
    "#    return Day_cls"
   ]
  },
  {
   "cell_type": "code",
   "execution_count": 63,
   "id": "8eda1a8a",
   "metadata": {},
   "outputs": [
    {
     "data": {
      "text/plain": [
       "<bound method NDFrame._add_numeric_operations.<locals>.max of 0         0\n",
       "1         0\n",
       "2         0\n",
       "3         0\n",
       "4         0\n",
       "         ..\n",
       "121254    0\n",
       "121255    0\n",
       "121256    0\n",
       "121257    0\n",
       "121258    0\n",
       "Name: Number_of_Casualties, Length: 121259, dtype: int64>"
      ]
     },
     "execution_count": 63,
     "metadata": {},
     "output_type": "execute_result"
    }
   ],
   "source": [
    "accident_factors['Number_of_Casualties'].max"
   ]
  },
  {
   "cell_type": "markdown",
   "id": "3da3227d",
   "metadata": {},
   "source": [
    "Number_of_Casualties column have all the values as zero, doesn't make any impact on the analysis. Hence dropping the column"
   ]
  },
  {
   "cell_type": "code",
   "execution_count": 64,
   "id": "720c7d62",
   "metadata": {},
   "outputs": [],
   "source": [
    "accident_factors.drop(\"Number_of_Casualties\", axis=1, inplace= True)"
   ]
  },
  {
   "cell_type": "code",
   "execution_count": 65,
   "id": "d9e0e934",
   "metadata": {},
   "outputs": [
    {
     "name": "stdout",
     "output_type": "stream",
     "text": [
      "<class 'pandas.core.frame.DataFrame'>\n",
      "RangeIndex: 121259 entries, 0 to 121258\n",
      "Data columns (total 27 columns):\n",
      " #   Column                                       Non-Null Count   Dtype         \n",
      "---  ------                                       --------------   -----         \n",
      " 0   Accident_ID                                  121259 non-null  object        \n",
      " 1   Police_Force                                 121259 non-null  int64         \n",
      " 2   Number_of_Vehicles                           121259 non-null  int64         \n",
      " 3   Date                                         121259 non-null  datetime64[ns]\n",
      " 4   Day_of_Week                                  121259 non-null  object        \n",
      " 5   Time                                         121259 non-null  object        \n",
      " 6   Local_Authority_(District)                   121259 non-null  object        \n",
      " 7   Local_Authority_(Highway)                    121259 non-null  object        \n",
      " 8   1st_Road_Class                               121259 non-null  category      \n",
      " 9   1st_Road_Number                              121259 non-null  object        \n",
      " 10  Road_Type                                    121259 non-null  object        \n",
      " 11  Speed_limit                                  121259 non-null  category      \n",
      " 12  2nd_Road_Class                               121259 non-null  category      \n",
      " 13  Pedestrian_Crossing-Human_Control            121259 non-null  category      \n",
      " 14  Pedestrian_Crossing-Physical_Facilities      121259 non-null  category      \n",
      " 15  Light_Conditions                             121259 non-null  category      \n",
      " 16  Weather_Conditions                           121259 non-null  category      \n",
      " 17  Road_Surface_Conditions                      121259 non-null  category      \n",
      " 18  Special_Conditions_at_Site                   121259 non-null  object        \n",
      " 19  Carriageway_Hazards                          121259 non-null  object        \n",
      " 20  Urban_or_Rural_Area                          121259 non-null  category      \n",
      " 21  Did_Police_Officer_Attend_Scene_of_Accident  121259 non-null  object        \n",
      " 22  state                                        121259 non-null  object        \n",
      " 23  postcode                                     121259 non-null  object        \n",
      " 24  country                                      121259 non-null  object        \n",
      " 25  Month                                        121259 non-null  object        \n",
      " 26  Season                                       121259 non-null  object        \n",
      "dtypes: category(9), datetime64[ns](1), int64(2), object(15)\n",
      "memory usage: 17.7+ MB\n"
     ]
    }
   ],
   "source": [
    "accident_factors.info()"
   ]
  },
  {
   "cell_type": "markdown",
   "id": "4f59fad9",
   "metadata": {},
   "source": [
    "## Data Visualization for initial analysis"
   ]
  },
  {
   "cell_type": "code",
   "execution_count": 66,
   "id": "f13a0972",
   "metadata": {},
   "outputs": [],
   "source": [
    "#hour = []\n",
    "#for x in accident_factors['Time']:\n",
    " #   hour.append(x.hour)\n",
    "#hour"
   ]
  },
  {
   "cell_type": "code",
   "execution_count": 67,
   "id": "7cfe46c4",
   "metadata": {},
   "outputs": [
    {
     "name": "stderr",
     "output_type": "stream",
     "text": [
      "C:\\Users\\sachi\\anaconda3\\lib\\site-packages\\seaborn\\_decorators.py:36: FutureWarning: Pass the following variable as a keyword arg: x. From version 0.12, the only valid positional argument will be `data`, and passing other arguments without an explicit keyword will result in an error or misinterpretation.\n",
      "  warnings.warn(\n"
     ]
    },
    {
     "data": {
      "image/png": "[encoded data removed]",
      "text/plain": [
       "<Figure size 432x288 with 1 Axes>"
      ]
     },
     "metadata": {
      "needs_background": "light"
     },
     "output_type": "display_data"
    }
   ],
   "source": [
    "# Count plot for categorizing the data by season\n",
    "sns.countplot(accident_factors['Season'])\n",
    "plt.show()\n"
   ]
  },
  {
   "cell_type": "code",
   "execution_count": 68,
   "id": "2352b0ec",
   "metadata": {},
   "outputs": [
    {
     "name": "stderr",
     "output_type": "stream",
     "text": [
      "C:\\Users\\sachi\\anaconda3\\lib\\site-packages\\seaborn\\_decorators.py:36: FutureWarning: Pass the following variable as a keyword arg: x. From version 0.12, the only valid positional argument will be `data`, and passing other arguments without an explicit keyword will result in an error or misinterpretation.\n",
      "  warnings.warn(\n"
     ]
    },
    {
     "data": {
      "image/png": "[encoded data removed]",
      "text/plain": [
       "<Figure size 432x288 with 1 Axes>"
      ]
     },
     "metadata": {
      "needs_background": "light"
     },
     "output_type": "display_data"
    }
   ],
   "source": [
    "# Hist plot for categorizing the data by month\n",
    "sns.countplot(accident_factors['Month'])\n",
    "plt.show()"
   ]
  },
  {
   "cell_type": "code",
   "execution_count": 72,
   "id": "bb9c99fc",
   "metadata": {},
   "outputs": [
    {
     "data": {
      "text/plain": [
       "49772"
      ]
     },
     "execution_count": 72,
     "metadata": {},
     "output_type": "execute_result"
    }
   ],
   "source": [
    "accident_factors['postcode'].nunique()"
   ]
  },
  {
   "cell_type": "code",
   "execution_count": null,
   "id": "85d8014c",
   "metadata": {},
   "outputs": [],
   "source": []
  }
 ],
 "metadata": {
  "kernelspec": {
   "display_name": "Python 3 (ipykernel)",
   "language": "python",
   "name": "python3"
  },
  "language_info": {
   "codemirror_mode": {
    "name": "ipython",
    "version": 3
   },
   "file_extension": ".py",
   "mimetype": "text/x-python",
   "name": "python",
   "nbconvert_exporter": "python",
   "pygments_lexer": "ipython3",
   "version": "3.9.12"
  }
 },
 "nbformat": 4,
 "nbformat_minor": 5
}
